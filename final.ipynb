{
 "cells": [
  {
   "cell_type": "markdown",
   "metadata": {},
   "source": [
    "### Ячейка 1: Импорты"
   ]
  },
  {
   "cell_type": "code",
   "execution_count": 1,
   "metadata": {
    "execution": {
     "iopub.execute_input": "2025-04-19T14:34:45.539992Z",
     "iopub.status.busy": "2025-04-19T14:34:45.539716Z",
     "iopub.status.idle": "2025-04-19T14:34:49.866861Z",
     "shell.execute_reply": "2025-04-19T14:34:49.865895Z",
     "shell.execute_reply.started": "2025-04-19T14:34:45.539968Z"
    },
    "trusted": true
   },
   "outputs": [
    {
     "name": "stdout",
     "output_type": "stream",
     "text": [
      "Установка flashlight-text...\n",
      "Collecting flashlight-text\n",
      "  Downloading flashlight_text-0.0.7-cp311-cp311-manylinux_2_17_x86_64.manylinux2014_x86_64.whl.metadata (10 kB)\n",
      "Downloading flashlight_text-0.0.7-cp311-cp311-manylinux_2_17_x86_64.manylinux2014_x86_64.whl (1.3 MB)\n",
      "\u001b[2K   \u001b[90m━━━━━━━━━━━━━━━━━━━━━━━━━━━━━━━━━━━━━━━━\u001b[0m \u001b[32m1.3/1.3 MB\u001b[0m \u001b[31m25.9 MB/s\u001b[0m eta \u001b[36m0:00:00\u001b[0m00:01\u001b[0m\n",
      "\u001b[?25hInstalling collected packages: flashlight-text\n",
      "Successfully installed flashlight-text-0.0.7\n",
      "Установка flashlight-text завершена (или уже установлена).\n"
     ]
    }
   ],
   "source": [
    "print(\"Установка flashlight-text...\")\n",
    "!pip install flashlight-text\n",
    "print(\"Установка flashlight-text завершена (или уже установлена).\")"
   ]
  },
  {
   "cell_type": "code",
   "execution_count": 2,
   "metadata": {
    "execution": {
     "iopub.execute_input": "2025-04-19T14:34:49.869008Z",
     "iopub.status.busy": "2025-04-19T14:34:49.868781Z",
     "iopub.status.idle": "2025-04-19T14:34:57.384572Z",
     "shell.execute_reply": "2025-04-19T14:34:57.383880Z",
     "shell.execute_reply.started": "2025-04-19T14:34:49.868988Z"
    },
    "trusted": true
   },
   "outputs": [
    {
     "name": "stdout",
     "output_type": "stream",
     "text": [
      "\u001b[2K   \u001b[90m━━━━━━━━━━━━━━━━━━━━━━━━━━━━━━━━━━━━━━━━\u001b[0m \u001b[32m3.1/3.1 MB\u001b[0m \u001b[31m46.4 MB/s\u001b[0m eta \u001b[36m0:00:00\u001b[0ma \u001b[36m0:00:01\u001b[0m\n",
      "\u001b[?25h"
     ]
    }
   ],
   "source": [
    "!pip install editdistance --quiet\n",
    "!pip install jiwer --quiet"
   ]
  },
  {
   "cell_type": "code",
   "execution_count": 3,
   "metadata": {
    "execution": {
     "iopub.execute_input": "2025-04-19T14:34:57.385765Z",
     "iopub.status.busy": "2025-04-19T14:34:57.385529Z",
     "iopub.status.idle": "2025-04-19T14:35:03.492182Z",
     "shell.execute_reply": "2025-04-19T14:35:03.491358Z",
     "shell.execute_reply.started": "2025-04-19T14:34:57.385744Z"
    },
    "trusted": true
   },
   "outputs": [
    {
     "name": "stdout",
     "output_type": "stream",
     "text": [
      "Фабричная функция `ctc_decoder` импортирована.\n",
      "\n",
      "PyTorch Version: 2.5.1+cu124\n",
      "Torchaudio Version: 2.5.1+cu124\n",
      "Device: cuda (Tesla P100-PCIE-16GB)\n"
     ]
    }
   ],
   "source": [
    "import torch\n",
    "import torchaudio\n",
    "import torchaudio.transforms as T\n",
    "import torchaudio.functional as F\n",
    "import torch.nn as nn\n",
    "import torch.nn.functional as F\n",
    "import torch.optim as optim\n",
    "from torch.optim.lr_scheduler import ReduceLROnPlateau, CosineAnnealingLR\n",
    "from torch.utils.data import Dataset, DataLoader\n",
    "from torch.nn.utils.rnn import pad_sequence\n",
    "import torch.fft # Для розового шума\n",
    "\n",
    "import pandas as pd\n",
    "import numpy as np\n",
    "import os\n",
    "import time\n",
    "import random\n",
    "import traceback\n",
    "import json # Для сохранения/загрузки конфига в чекпоинт\n",
    "\n",
    "# Метрики и утилиты\n",
    "import editdistance\n",
    "import jiwer\n",
    "from sklearn.model_selection import train_test_split\n",
    "from sklearn.metrics import confusion_matrix\n",
    "from tqdm.notebook import tqdm\n",
    "import matplotlib.pyplot as plt\n",
    "import seaborn as sns\n",
    "\n",
    "# Beam Search декодер (Опционально)\n",
    "try:\n",
    "    from torchaudio.models.decoder import ctc_decoder\n",
    "    TORCHAUDIO_CTC_DECODER_AVAILABLE = True\n",
    "    print(\"Фабричная функция `ctc_decoder` импортирована.\")\n",
    "except ImportError:\n",
    "    TORCHAUDIO_CTC_DECODER_AVAILABLE = False\n",
    "    ctc_decoder = None\n",
    "    print(\"Предупреждение: `torchaudio.models.decoder.ctc_decoder` не найден.\")\n",
    "    print(\"Для Beam Search установите: !pip install flashlight-text --no-deps --quiet\")\n",
    "    print(\"!!! И ПЕРЕЗАПУСТИТЕ СРЕДУ ВЫПОЛНЕНИЯ !!!\")\n",
    "\n",
    "# --- Версии и Устройство ---\n",
    "print(f\"\\nPyTorch Version: {torch.__version__}\")\n",
    "print(f\"Torchaudio Version: {torchaudio.__version__}\")\n",
    "DEVICE = torch.device(\"cuda\" if torch.cuda.is_available() else \"cpu\")\n",
    "print(f\"Device: {DEVICE} ({torch.cuda.get_device_name(0) if torch.cuda.is_available() else 'CPU'})\")"
   ]
  },
  {
   "cell_type": "markdown",
   "metadata": {},
   "source": [
    "### Ячейка 2: Конфигурация Эксперимента"
   ]
  },
  {
   "cell_type": "code",
   "execution_count": 4,
   "metadata": {
    "execution": {
     "iopub.execute_input": "2025-04-19T14:35:03.494698Z",
     "iopub.status.busy": "2025-04-19T14:35:03.494344Z",
     "iopub.status.idle": "2025-04-19T14:35:03.510946Z",
     "shell.execute_reply": "2025-04-19T14:35:03.510348Z",
     "shell.execute_reply.started": "2025-04-19T14:35:03.494678Z"
    },
    "trusted": true
   },
   "outputs": [
    {
     "name": "stdout",
     "output_type": "stream",
     "text": [
      "\n",
      "--- Конфигурация Запуска: morse_crnn_4layer_norm_aug_v1 ---\n",
      "Предобработка: Normalize=True, FreqFilter=True\n",
      "Аугментации (Prob=0.9): ['time_shift', 'gain', 'noise', 'pitch_shift', 'freq_masking']\n",
      "Модель: CRNNModel_4Layer (256 hidden, 2 layers)\n",
      "Обучение: 40 эпох, BS=128, LR=0.0003, Optim=AdamW, Sched=ReduceLROnPlateau\n",
      "Инференс: BeamSearch=True, BeamSize=15\n",
      "Чекпоинты: /kaggle/working/checkpoints_morse_crnn_4layer_norm_aug_v1\n"
     ]
    }
   ],
   "source": [
    "config = {\n",
    "    # --- Основные Настройки ---\n",
    "    \"SEED\": 42,\n",
    "    \"KAGGLE_INPUT_DIR\": '/kaggle/input/morse-dataset/data',\n",
    "    \"KAGGLE_WORKING_DIR\": '/kaggle/working/',\n",
    "    \"MODEL_NAME\": \"morse_crnn_4layer_norm_aug_v1\", # Имя для этого эксперимента\n",
    "\n",
    "    # --- Пути (формируются автоматически ниже) ---\n",
    "    \"TRAIN_CSV_PATH\": None, \"TEST_CSV_PATH\": None, \"SAMPLE_SUBMISSION_PATH\": None,\n",
    "    \"AUDIO_BASE_PATH\": None, \"CHECKPOINT_DIR\": None, \"LOG_FILE\": None, \"SUBMISSION_FILE\": None,\n",
    "\n",
    "    # --- Имена колонок ---\n",
    "    \"FILE_PATH_COLUMN\": 'id', \"TARGET_COLUMN\": 'message', \"TEST_ID_COLUMN\": 'id',\n",
    "\n",
    "    # --- Параметры Аудио и Mel-спектрограмм ---\n",
    "    \"AUDIO\": {\n",
    "        \"sample_rate\": 8000, \"n_mels\": 64, \"n_fft\": 400,\n",
    "        \"hop_length\": 160, \"win_length\": 400,\n",
    "        \"amplitude_to_db\": True, # Конвертировать в dB для входа в модель? (Обычно да)\n",
    "        \"top_db\": 80,\n",
    "    },\n",
    "\n",
    "    # --- Параметры Предобработки (Применяются всегда к Train/Val/Test) ---\n",
    "    \"PREPROCESSING\": {\n",
    "        \"normalize\": { # RMS Нормализация Waveform\n",
    "            \"apply\": True,\n",
    "            \"target_dbfs\": -23.0,\n",
    "            \"silence_threshold_db\": -60\n",
    "        },\n",
    "        \"frequency_filter\": { # Фильтрация Mel-бинов\n",
    "            \"apply\": True,\n",
    "            \"min_mel_bin\": 12,\n",
    "            \"max_mel_bin\": 40,\n",
    "            \"mask_value\": None # None -> использовать min() спектрограммы\n",
    "        }\n",
    "    },\n",
    "\n",
    "    \"AUGMENTATION\": {\n",
    "        \"probability\": 0.9,\n",
    "        \"active\": ['time_shift', 'gain', 'noise', 'pitch_shift', 'freq_masking'], \n",
    "        \"time_shift\": {\n",
    "            \"max_fraction\": 0.1,\n",
    "        },\n",
    "        \"gain\": {\n",
    "            \"db_range\": (-8.0, 4.0),\n",
    "        },\n",
    "        \"noise\": {\n",
    "            \"snr_db_range\": (0, 20),\n",
    "            \"types_prob\": {\n",
    "                'gaussian': 0.6,\n",
    "                'pink': 0.4,\n",
    "            }\n",
    "        },\n",
    "        \"pitch_shift\": {\n",
    "\n",
    "            \"n_steps_range\": (-1.5, 1.5)\n",
    "        },\n",
    "        \"freq_masking\": {\n",
    "             \"masks\": 2,\n",
    "             \"width\": 8,\n",
    "        }\n",
    "    },\n",
    "\n",
    "    # --- Параметры Обучения ---\n",
    "    \"TRAINING\": {\n",
    "        \"batch_size\":   128,\n",
    "        \"num_workers\": 4,\n",
    "        \"learning_rate\": 3e-4,\n",
    "        \"num_epochs\": 40, # Увеличим немного для данных с аугментацией\n",
    "        \"validation_split_size\": 0.1,\n",
    "        \"optimizer\": \"AdamW\",\n",
    "        \"optimizer_weight_decay\": 1e-5,\n",
    "        \"scheduler\": \"ReduceLROnPlateau\", # Или \"CosineAnnealingLR\"\n",
    "        \"scheduler_patience\": 5,         # Для ReduceLROnPlateau\n",
    "        \"scheduler_factor\": 0.5,         # Для ReduceLROnPlateau\n",
    "        \"grad_clip_value\": 1.0           # Ограничение градиента (0 - отключено)\n",
    "    },\n",
    "\n",
    "    # --- Параметры Модели (CRNN 4-слойная) ---\n",
    "    \"MODEL\": {\n",
    "        \"type\": \"CRNNModel_4Layer\",\n",
    "        \"rnn_hidden_size\": 256,\n",
    "        \"rnn_num_layers\": 2,\n",
    "        \"cnn_dropout\": 0.15,\n",
    "        \"rnn_dropout\": 0.15\n",
    "    },\n",
    "\n",
    "    # --- Параметры Инференса ---\n",
    "    \"INFERENCE\": {\n",
    "        \"batch_size\": 64, # Можно увеличить для инференса\n",
    "        \"use_beam_search\": True, # Пытаться использовать Beam Search?\n",
    "        \"beam_search_beam_size\": 15,\n",
    "        \"beam_search_lm_path\": None, # Путь к языковой модели (если есть)\n",
    "        \"beam_search_lexicon_path\": None, # Путь к лексикону (если есть)\n",
    "    }\n",
    "}\n",
    "\n",
    "# --- Формирование Путей ---\n",
    "config[\"TRAIN_CSV_PATH\"] = os.path.join(config[\"KAGGLE_INPUT_DIR\"], 'train.csv')\n",
    "config[\"TEST_CSV_PATH\"] = os.path.join(config[\"KAGGLE_INPUT_DIR\"], 'test.csv')\n",
    "config[\"SAMPLE_SUBMISSION_PATH\"] = os.path.join(config[\"KAGGLE_INPUT_DIR\"], 'sample_submission.csv')\n",
    "config[\"AUDIO_BASE_PATH\"] = os.path.join(config[\"KAGGLE_INPUT_DIR\"], 'morse_dataset', 'morse_dataset')\n",
    "config[\"CHECKPOINT_DIR\"] = os.path.join(config[\"KAGGLE_WORKING_DIR\"], f\"checkpoints_{config['MODEL_NAME']}\")\n",
    "config[\"LOG_FILE\"] = os.path.join(config[\"KAGGLE_WORKING_DIR\"], f\"training_log_{config['MODEL_NAME']}.txt\")\n",
    "config[\"SUBMISSION_FILE\"] = os.path.join(config[\"KAGGLE_WORKING_DIR\"], f\"submission_{config['MODEL_NAME']}.csv\")\n",
    "\n",
    "# --- Создание Папок и Установка SEED ---\n",
    "os.makedirs(config[\"CHECKPOINT_DIR\"], exist_ok=True)\n",
    "def seed_everything(seed):\n",
    "    random.seed(seed); os.environ['PYTHONHASHSEED'] = str(seed)\n",
    "    np.random.seed(seed); torch.manual_seed(seed)\n",
    "    if torch.cuda.is_available(): torch.cuda.manual_seed_all(seed); torch.backends.cudnn.deterministic = True; torch.backends.cudnn.benchmark = False\n",
    "seed_everything(config[\"SEED\"])\n",
    "\n",
    "# --- Вывод основной конфигурации ---\n",
    "print(f\"\\n--- Конфигурация Запуска: {config['MODEL_NAME']} ---\")\n",
    "print(f\"Предобработка: Normalize={config['PREPROCESSING']['normalize']['apply']}, FreqFilter={config['PREPROCESSING']['frequency_filter']['apply']}\")\n",
    "print(f\"Аугментации (Prob={config['AUGMENTATION']['probability']}): {config['AUGMENTATION']['active']}\")\n",
    "print(f\"Модель: {config['MODEL']['type']} ({config['MODEL']['rnn_hidden_size']} hidden, {config['MODEL']['rnn_num_layers']} layers)\")\n",
    "print(f\"Обучение: {config['TRAINING']['num_epochs']} эпох, BS={config['TRAINING']['batch_size']}, LR={config['TRAINING']['learning_rate']}, Optim={config['TRAINING']['optimizer']}, Sched={config['TRAINING']['scheduler']}\")\n",
    "print(f\"Инференс: BeamSearch={config['INFERENCE']['use_beam_search'] and TORCHAUDIO_CTC_DECODER_AVAILABLE}, BeamSize={config['INFERENCE']['beam_search_beam_size']}\")\n",
    "print(f\"Чекпоинты: {config['CHECKPOINT_DIR']}\")"
   ]
  },
  {
   "cell_type": "markdown",
   "metadata": {},
   "source": [
    "### Ячейка 3: Утилиты (Декодирование, Метрики)"
   ]
  },
  {
   "cell_type": "code",
   "execution_count": 5,
   "metadata": {
    "execution": {
     "iopub.execute_input": "2025-04-19T14:35:03.511874Z",
     "iopub.status.busy": "2025-04-19T14:35:03.511655Z",
     "iopub.status.idle": "2025-04-19T14:35:03.533707Z",
     "shell.execute_reply": "2025-04-19T14:35:03.532985Z",
     "shell.execute_reply.started": "2025-04-19T14:35:03.511850Z"
    },
    "trusted": true
   },
   "outputs": [
    {
     "name": "stdout",
     "output_type": "stream",
     "text": [
      "Утилиты декодирования и метрики определены.\n"
     ]
    }
   ],
   "source": [
    "BLANK_CHAR = '<blank>'\n",
    "char_to_int = None\n",
    "int_to_char = None\n",
    "blank_index = -1\n",
    "\n",
    "# Функции decode_predictions, decode_targets, calculate_levenshtein_mean - БЕЗ ИЗМЕНЕНИЙ\n",
    "# (Скопируйте их из вашего предыдущего \"чистого\" ноутбука)\n",
    "def decode_predictions(log_probs: torch.Tensor, int_to_char_map: dict, blank_idx: int) -> list[str]:\n",
    "    \"\"\" Простое жадное CTC-декодирование (Greedy Best Path) \"\"\"\n",
    "    decoded_preds = []\n",
    "    if log_probs.numel() == 0: return []\n",
    "    log_probs_cpu = log_probs.cpu().detach()\n",
    "    best_paths = torch.argmax(log_probs_cpu, dim=2) # [Time, Batch] -> [Batch, Time] если batch_first=True в LSTM? Нет, LSTM отдает [T, B, H], FC [T, B, C], log_softmax [T, B, C] - все верно\n",
    "    # Нужно убедиться, что log_probs имеет форму [Time, Batch, Classes] - стандартный выход LSTM+Linear в PyTorch\n",
    "    best_paths = torch.argmax(log_probs_cpu, dim=2) # [Time, Batch]\n",
    "    for i in range(best_paths.shape[1]): # Iterate over batch\n",
    "        best_path_i = best_paths[:, i].tolist()\n",
    "        decoded_seq = []\n",
    "        last_char_idx = blank_idx\n",
    "        for char_idx in best_path_i:\n",
    "            if char_idx != blank_idx and char_idx != last_char_idx:\n",
    "                decoded_seq.append(int_to_char_map.get(char_idx, '?'))\n",
    "            last_char_idx = char_idx\n",
    "        decoded_preds.append(\"\".join(decoded_seq))\n",
    "    return decoded_preds\n",
    "\n",
    "def decode_targets(targets: torch.Tensor, target_lengths: torch.Tensor, int_to_char_map: dict) -> list[str]:\n",
    "    \"\"\" Декодирует батч таргетов (конкатенированных) из индексов в строки \"\"\"\n",
    "    decoded_targets_list = []\n",
    "    start_idx = 0\n",
    "    targets_cpu = targets.cpu().tolist(); target_lengths_cpu = target_lengths.cpu().tolist()\n",
    "    for length in target_lengths_cpu:\n",
    "        if length == 0: decoded_targets_list.append(\"\"); continue\n",
    "        target_indices = targets_cpu[start_idx : start_idx + length]\n",
    "        decoded_target = \"\".join([int_to_char_map.get(idx, '?') for idx in target_indices])\n",
    "        decoded_targets_list.append(decoded_target)\n",
    "        start_idx += length\n",
    "    return decoded_targets_list\n",
    "\n",
    "def calculate_levenshtein_mean(predictions: list[str], targets: list[str]) -> float:\n",
    "    \"\"\" Расчет среднего расстояния Левенштейна \"\"\"\n",
    "    if not predictions or not targets or len(predictions) != len(targets): return float('inf')\n",
    "    total_distance, num_samples = 0, len(targets)\n",
    "    if num_samples == 0: return 0.0\n",
    "    for pred, target in zip(predictions, targets):\n",
    "        total_distance += editdistance.eval(str(pred), str(target))\n",
    "    return total_distance / num_samples\n",
    "\n",
    "# Функция для расчета CER\n",
    "def calculate_cer(predictions: list[str], targets: list[str]) -> float:\n",
    "    \"\"\" Расчет среднего CER с помощью jiwer \"\"\"\n",
    "    if not predictions or not targets or len(predictions) != len(targets): return float('inf')\n",
    "    if not jiwer: return float('nan') # Если jiwer не установлен\n",
    "    try:\n",
    "        # Убедимся, что нет пустых таргетов, jiwer их не любит\n",
    "        filtered_preds = [p for p, t in zip(predictions, targets) if t]\n",
    "        filtered_targets = [t for t in targets if t]\n",
    "        if not filtered_targets: return 0.0\n",
    "        return jiwer.cer(filtered_targets, filtered_preds)\n",
    "    except Exception as e:\n",
    "        print(f\"Ошибка расчета CER: {e}\")\n",
    "        return float('nan')\n",
    "\n",
    "print(\"Утилиты декодирования и метрики определены.\")"
   ]
  },
  {
   "cell_type": "markdown",
   "metadata": {},
   "source": [
    "### Ячейка 4: Вспомогательные Функции (Предобработка, Аугментации)"
   ]
  },
  {
   "cell_type": "code",
   "execution_count": 6,
   "metadata": {
    "execution": {
     "iopub.execute_input": "2025-04-19T14:35:03.534926Z",
     "iopub.status.busy": "2025-04-19T14:35:03.534660Z",
     "iopub.status.idle": "2025-04-19T14:35:03.557547Z",
     "shell.execute_reply": "2025-04-19T14:35:03.556890Z",
     "shell.execute_reply.started": "2025-04-19T14:35:03.534903Z"
    },
    "trusted": true
   },
   "outputs": [
    {
     "name": "stdout",
     "output_type": "stream",
     "text": [
      "Функция apply_pitch_shift определена.\n",
      "Вспомогательные функции (предобработка, аугментации) определены.\n"
     ]
    }
   ],
   "source": [
    "# Функции generate_pink_noise, apply_rms_normalization, apply_time_shift,\n",
    "# apply_gain, add_noise - БЕЗ ИЗМЕНЕНИЙ\n",
    "# (Скопируйте их из вашего ноутбука для анализа аугментаций Ячейка 3 + Ячейка 4а)\n",
    "def generate_pink_noise(shape, sr, device=None):\n",
    "    n_samples = shape[-1]\n",
    "    if n_samples == 0: return torch.zeros(shape, device=device)\n",
    "    white_noise = torch.randn(shape, device=device)\n",
    "    fft_white = torch.fft.rfft(white_noise, dim=-1)\n",
    "    freqs = torch.fft.rfftfreq(n_samples, d=1.0/sr, device=device) # Используем sample_rate\n",
    "    scaling_factor = 1.0 / torch.sqrt(torch.clamp(freqs, min=1e-6))\n",
    "    if len(scaling_factor)>0: scaling_factor[0] = 1.0\n",
    "    fft_pink = fft_white * scaling_factor\n",
    "    pink_noise = torch.fft.irfft(fft_pink, n=n_samples, dim=-1)\n",
    "    std_white = torch.std(white_noise); std_pink = torch.std(pink_noise)\n",
    "    if std_pink > 1e-6: pink_noise = pink_noise * (std_white / std_pink)\n",
    "    return pink_noise\n",
    "\n",
    "def apply_rms_normalization(waveform, sr, target_dbfs=-20.0, silence_threshold_db=-60):\n",
    "    if waveform.numel() == 0: return waveform\n",
    "    try:\n",
    "        current_loudness_lufs = F.loudness(waveform, sr)\n",
    "        if current_loudness_lufs < silence_threshold_db: return waveform\n",
    "        gain_db = target_dbfs - current_loudness_lufs\n",
    "        gain_factor = 10.0 ** (gain_db / 20.0)\n",
    "        normalized_waveform = torch.clamp(waveform * gain_factor, min=-1.0, max=1.0)\n",
    "        return normalized_waveform\n",
    "    except Exception: return waveform\n",
    "\n",
    "def apply_time_shift(waveform, sr, max_fraction=0.1):\n",
    "    if waveform.numel() == 0: return waveform\n",
    "    max_shift_samples = int(waveform.shape[1] * max_fraction)\n",
    "    if max_shift_samples == 0: return waveform\n",
    "    shift_amount = random.randint(-max_shift_samples, max_shift_samples)\n",
    "    return torch.roll(waveform, shifts=shift_amount, dims=1)\n",
    "\n",
    "def apply_gain(waveform, db_range=(-6.0, 6.0)):\n",
    "    if waveform.numel() == 0: return waveform\n",
    "    gain_db = random.uniform(db_range[0], db_range[1])\n",
    "    gain_factor = 10.0 ** (gain_db / 20.0)\n",
    "    return torch.clamp(waveform * gain_factor, min=-1.0, max=1.0)\n",
    "\n",
    "def add_noise(waveform, sr, snr_db_range=(10, 30), types_prob={'gaussian': 1.0}):\n",
    "    if waveform.numel() == 0: return waveform\n",
    "    noise_types = list(types_prob.keys())\n",
    "    probs = np.array(list(types_prob.values()), dtype=np.float32)\n",
    "    prob_sum = probs.sum()\n",
    "    if prob_sum <= 0: return waveform\n",
    "    if not np.isclose(prob_sum, 1.0): probs /= prob_sum\n",
    "    chosen_noise_type = np.random.choice(noise_types, p=probs)\n",
    "    noise = None\n",
    "    if chosen_noise_type == 'gaussian': noise = torch.randn_like(waveform)\n",
    "    elif chosen_noise_type == 'pink': noise = generate_pink_noise(waveform.shape, sr, device=waveform.device)\n",
    "    else: return waveform\n",
    "    if noise is None or noise.shape != waveform.shape: return waveform\n",
    "    snr_db = random.uniform(snr_db_range[0], snr_db_range[1])\n",
    "    snr_linear = 10.0 ** (snr_db / 10.0)\n",
    "    waveform_power = torch.mean(waveform**2)\n",
    "    if waveform_power < 1e-9: return waveform\n",
    "    noise_power_target = waveform_power / snr_linear\n",
    "    noise_power_current = torch.mean(noise**2)\n",
    "    if noise_power_current < 1e-9: return waveform\n",
    "    noise_scaled = noise * torch.sqrt(noise_power_target / noise_power_current)\n",
    "    return torch.clamp(waveform + noise_scaled, min=-1.0, max=1.0)\n",
    "\n",
    "# Функция apply_frequency_filter - БЕЗ ИЗМЕНЕНИЙ\n",
    "# (Скопируйте из вашего ноутбука для анализа аугментаций Ячейка 3)\n",
    "def apply_frequency_filter(spectrogram, min_bin, max_bin, mask_value=None):\n",
    "    if spectrogram is None or spectrogram.numel() == 0: return spectrogram\n",
    "    filtered_spec = spectrogram.clone()\n",
    "    fill_value = mask_value if mask_value is not None else filtered_spec.min().item()\n",
    "    if min_bin > 0: filtered_spec[:min_bin, :] = fill_value\n",
    "    if max_bin < filtered_spec.shape[0] - 1: filtered_spec[max_bin + 1:, :] = fill_value\n",
    "    return filtered_spec\n",
    "\n",
    "# Функция для Frequency Masking\n",
    "def apply_freq_masking(spectrogram, max_masks=1, max_width=10):\n",
    "    if spectrogram.numel() == 0 or max_masks <= 0 or max_width <= 0: return spectrogram\n",
    "    num_masks = random.randint(0, max_masks)\n",
    "    if num_masks == 0: return spectrogram\n",
    "\n",
    "    transform = T.FrequencyMasking(freq_mask_param=random.randint(1, max_width))\n",
    "    # FrequencyMasking ожидает [..., Freq, Time]\n",
    "    # Наша спектрограмма [Freq, Time], добавим батч/канал временно\n",
    "    masked_spec = spectrogram.clone().unsqueeze(0).unsqueeze(0) # [1, 1, Freq, Time]\n",
    "    for _ in range(num_masks):\n",
    "        masked_spec = transform(masked_spec)\n",
    "    return masked_spec.squeeze(0).squeeze(0) # [Freq, Time]\n",
    "    \n",
    "def apply_pitch_shift(waveform, sr, n_steps_range=(-1.0, 1.0)):\n",
    "    \"\"\"Применяет случайный сдвиг высоты тона.\"\"\"\n",
    "    if waveform.numel() == 0: return waveform\n",
    "    \n",
    "    # Выбираем случайное количество полутонов для сдвига\n",
    "    n_steps = random.uniform(n_steps_range[0], n_steps_range[1])\n",
    "    if abs(n_steps) < 1e-3: return waveform # Небольшой сдвиг можно пропустить\n",
    "    \n",
    "    try:\n",
    "        # Используем torchaudio.functional.pitch_shift\n",
    "        shifted_waveform = F.pitch_shift(waveform, sample_rate=sr, n_steps=n_steps)\n",
    "        return shifted_waveform\n",
    "    except Exception as e:\n",
    "        # print(f\"Ошибка pitch_shift: {e}\") # Ошибки могут возникать при некоторых граничных условиях\n",
    "        return waveform # Возвращаем оригинал в случае ошибки\n",
    "\n",
    "print(\"Функция apply_pitch_shift определена.\")\n",
    "\n",
    "print(\"Вспомогательные функции (предобработка, аугментации) определены.\")"
   ]
  },
  {
   "cell_type": "markdown",
   "metadata": {},
   "source": [
    "### Ячейка 5: Класс MorseDataset (с Предобработкой и Аугментациями)"
   ]
  },
  {
   "cell_type": "code",
   "execution_count": 7,
   "metadata": {
    "execution": {
     "iopub.execute_input": "2025-04-19T14:35:03.558805Z",
     "iopub.status.busy": "2025-04-19T14:35:03.558498Z",
     "iopub.status.idle": "2025-04-19T14:35:03.585675Z",
     "shell.execute_reply": "2025-04-19T14:35:03.584915Z",
     "shell.execute_reply.started": "2025-04-19T14:35:03.558788Z"
    },
    "trusted": true
   },
   "outputs": [
    {
     "name": "stdout",
     "output_type": "stream",
     "text": [
      "Класс MorseDataset (с предобработкой и аугментациями, вкл. Pitch Shift) определен.\n"
     ]
    }
   ],
   "source": [
    "# ==============================================================================\n",
    "# Ячейка 5: Класс MorseDataset (с Предобработкой и Аугментациями)\n",
    "# ==============================================================================\n",
    "\n",
    "class MorseDataset(Dataset):\n",
    "    def __init__(self, data_frame: pd.DataFrame, audio_base_path: str, char_map: dict,\n",
    "                 file_path_column: str, target_column: str,\n",
    "                 # --- Конфигурации ---\n",
    "                 audio_cfg: dict,\n",
    "                 preproc_cfg: dict,\n",
    "                 aug_cfg: dict = None, # None для val/test\n",
    "                 is_train: bool = False # Флаг для применения аугментаций\n",
    "                 ):\n",
    "\n",
    "        self.data_frame = data_frame.reset_index(drop=True)\n",
    "        self.audio_base_path = audio_base_path\n",
    "        self.char_map = char_map\n",
    "        self.file_path_column = file_path_column\n",
    "        self.target_column = target_column\n",
    "        self.test_id_column = config[\"TEST_ID_COLUMN\"] # Глобальный конфиг\n",
    "\n",
    "        # Сохраняем конфигурации\n",
    "        self.audio_cfg = audio_cfg\n",
    "        self.preproc_cfg = preproc_cfg\n",
    "        self.aug_cfg = aug_cfg if is_train else None # Аугментации только для трейна\n",
    "        self.is_train = is_train\n",
    "\n",
    "        # Сохраняем параметры для быстрого доступа\n",
    "        self.target_sr = audio_cfg['sample_rate']\n",
    "        self.apply_norm = preproc_cfg['normalize']['apply']\n",
    "        self.norm_target_dbfs = preproc_cfg['normalize']['target_dbfs']\n",
    "        self.norm_silence_db = preproc_cfg['normalize']['silence_threshold_db']\n",
    "        self.apply_freq_filter = preproc_cfg['frequency_filter']['apply']\n",
    "        self.min_bin = preproc_cfg['frequency_filter']['min_mel_bin']\n",
    "        self.max_bin = preproc_cfg['frequency_filter']['max_mel_bin']\n",
    "        self.filter_mask_value = preproc_cfg['frequency_filter']['mask_value']\n",
    "\n",
    "        # Параметры аугментации (только если is_train и aug_cfg переданы)\n",
    "        if self.is_train and self.aug_cfg:\n",
    "             self.aug_prob = self.aug_cfg['probability']\n",
    "             self.active_augs = self.aug_cfg['active']\n",
    "             # Time Shift\n",
    "             self.apply_time_shift = 'time_shift' in self.active_augs\n",
    "             self.time_shift_fraction = self.aug_cfg.get('time_shift', {}).get('max_fraction', 0.1)\n",
    "             # Gain\n",
    "             self.apply_gain = 'gain' in self.active_augs\n",
    "             self.gain_range = self.aug_cfg.get('gain', {}).get('db_range', (-6.0, 6.0))\n",
    "             # Noise\n",
    "             self.apply_noise = 'noise' in self.active_augs\n",
    "             self.noise_snr = self.aug_cfg.get('noise', {}).get('snr_db_range', (10, 30))\n",
    "             self.noise_types = self.aug_cfg.get('noise', {}).get('types_prob', {'gaussian': 1.0})\n",
    "             # Pitch Shift\n",
    "             self.apply_pitch_shift = 'pitch_shift' in self.active_augs\n",
    "             self.pitch_shift_range = self.aug_cfg.get('pitch_shift', {}).get('n_steps_range', (-1.0, 1.0))\n",
    "             # Frequency Masking\n",
    "             self.apply_freq_mask = 'freq_masking' in self.active_augs\n",
    "             self.freq_mask_count = self.aug_cfg.get('freq_masking', {}).get('masks', 0)\n",
    "             self.freq_mask_width = self.aug_cfg.get('freq_masking', {}).get('width', 0)\n",
    "        else:\n",
    "             # Устанавливаем значения по умолчанию, если аугментации не применяются\n",
    "             self.aug_prob = 0.0\n",
    "             self.active_augs = []\n",
    "             self.apply_time_shift = False\n",
    "             self.apply_gain = False\n",
    "             self.apply_noise = False\n",
    "             self.apply_pitch_shift = False\n",
    "             self.apply_freq_mask = False\n",
    "\n",
    "\n",
    "        # Mel трансформатор (создается один раз)\n",
    "        self.mel_transform = T.MelSpectrogram(\n",
    "            sample_rate=self.target_sr, n_fft=audio_cfg['n_fft'],\n",
    "            win_length=audio_cfg['win_length'], hop_length=audio_cfg['hop_length'],\n",
    "            n_mels=audio_cfg['n_mels'] )\n",
    "        # Опционально: DB трансформатор\n",
    "        self.db_transform = T.AmplitudeToDB(top_db=audio_cfg['top_db']) if audio_cfg.get('amplitude_to_db', False) else None\n",
    "\n",
    "    def __len__(self):\n",
    "        return len(self.data_frame)\n",
    "\n",
    "    def _load_audio(self, audio_path):\n",
    "        try:\n",
    "            waveform, sr = torchaudio.load(audio_path)\n",
    "            # 1. Ресемплинг\n",
    "            if sr != self.target_sr:\n",
    "                resampler = T.Resample(orig_freq=sr, new_freq=self.target_sr)\n",
    "                waveform = resampler(waveform)\n",
    "            # 2. В Моно\n",
    "            if waveform.shape[0] > 1: waveform = torch.mean(waveform, dim=0, keepdim=True)\n",
    "            # 3. Гарантируем [1, Time]\n",
    "            if waveform.dim() == 1: waveform = waveform.unsqueeze(0)\n",
    "            return waveform\n",
    "        except Exception as e:\n",
    "            # print(f\"Ошибка загрузки {os.path.basename(audio_path)}: {e}\") # Раскомментировать для отладки\n",
    "            return None\n",
    "\n",
    "    def __getitem__(self, idx):\n",
    "        try:\n",
    "            if torch.is_tensor(idx): idx = idx.tolist()\n",
    "            row = self.data_frame.iloc[idx]\n",
    "            audio_rel_path = str(row[self.file_path_column])\n",
    "        except Exception as e:\n",
    "            # print(f\"Ошибка доступа к DataFrame, idx={idx}: {e}\")\n",
    "            return None\n",
    "        if not audio_rel_path.endswith('.opus'): audio_rel_path += '.opus'\n",
    "        audio_full_path = os.path.join(self.audio_base_path, audio_rel_path)\n",
    "\n",
    "        # 1. Загрузка Waveform\n",
    "        waveform = self._load_audio(audio_full_path)\n",
    "        if waveform is None or waveform.numel() == 0:\n",
    "            # print(f\"Пропуск: Не удалось загрузить или пустой файл: {audio_rel_path}\")\n",
    "            return None\n",
    "\n",
    "        # 2. Предобработка Waveform (Применяется всегда)\n",
    "        if self.apply_norm:\n",
    "            waveform = apply_rms_normalization(waveform, self.target_sr, self.norm_target_dbfs, self.norm_silence_db)\n",
    "\n",
    "        # Флаг, сработала ли общая вероятность аугментации для этого сэмпла\n",
    "        apply_augs_to_this_sample = self.is_train and self.aug_cfg and random.random() < self.aug_prob\n",
    "\n",
    "        # 3. Аугментация Waveform (Только для Train и если сработала общая вероятность)\n",
    "        if apply_augs_to_this_sample:\n",
    "            # Собираем список активных waveform аугментаций\n",
    "            waveform_augs_to_apply = [aug for aug in self.active_augs if aug != 'freq_masking']\n",
    "            random.shuffle(waveform_augs_to_apply) # Применяем в случайном порядке\n",
    "            for aug_name in waveform_augs_to_apply:\n",
    "                 if aug_name == 'time_shift' and self.apply_time_shift:\n",
    "                     waveform = apply_time_shift(waveform, self.target_sr, self.time_shift_fraction)\n",
    "                 elif aug_name == 'gain' and self.apply_gain:\n",
    "                     waveform = apply_gain(waveform, self.gain_range)\n",
    "                 elif aug_name == 'noise' and self.apply_noise:\n",
    "                     waveform = add_noise(waveform, self.target_sr, self.noise_snr, self.noise_types)\n",
    "                 elif aug_name == 'pitch_shift' and self.apply_pitch_shift:\n",
    "                     waveform = apply_pitch_shift(waveform, self.target_sr, self.pitch_shift_range)\n",
    "                 # Добавьте сюда другие waveform аугментации при необходимости\n",
    "\n",
    "        # 4. Генерация Mel-Спектрограммы\n",
    "        try:\n",
    "            features = self.mel_transform(waveform) # [1, Freq, Time]\n",
    "            features = features.squeeze(0) # -> [Freq, Time]\n",
    "            if self.db_transform:\n",
    "                 features = self.db_transform(features)\n",
    "        except Exception as e:\n",
    "            # print(f\"Ошибка Mel/DB трансформации для {audio_rel_path}: {e}\")\n",
    "            return None\n",
    "\n",
    "        # 5. Предобработка Спектрограммы (Применяется всегда)\n",
    "        if self.apply_freq_filter and features.numel() > 0:\n",
    "            features = apply_frequency_filter(features, self.min_bin, self.max_bin, self.filter_mask_value)\n",
    "\n",
    "        # 6. Аугментация Спектрограммы (Только для Train и если сработала общая вероятность)\n",
    "        if apply_augs_to_this_sample and self.apply_freq_mask:\n",
    "             features = apply_freq_masking(features, self.freq_mask_count, self.freq_mask_width)\n",
    "\n",
    "        # 7. Подготовка Выхода\n",
    "        if self.char_map: # Train/Val\n",
    "            try:\n",
    "                target_text = str(row[self.target_column])\n",
    "                encoded_text = [self.char_map.get(char) for char in target_text if char in self.char_map]\n",
    "                # Пропускаем сэмплы с пустыми или невалидными таргетами ПОСЛЕ маппинга\n",
    "                if not encoded_text:\n",
    "                     # print(f\"Пропуск: Пустой или невалидный таргет после маппинга для {audio_rel_path}, target='{target_text}'\")\n",
    "                     return None\n",
    "                encoded_text = torch.tensor(encoded_text, dtype=torch.long)\n",
    "                return features, encoded_text\n",
    "            except Exception as e:\n",
    "                # print(f\"Ошибка обработки таргета для {audio_rel_path}: {e}\")\n",
    "                return None\n",
    "        else: # Test\n",
    "            try:\n",
    "                test_id = str(row[self.test_id_column])\n",
    "                return features, test_id\n",
    "            except Exception as e:\n",
    "                 # print(f\"Ошибка получения test_id для {audio_rel_path}: {e}\")\n",
    "                 return None\n",
    "\n",
    "print(\"Класс MorseDataset (с предобработкой и аугментациями, вкл. Pitch Shift) определен.\")"
   ]
  },
  {
   "cell_type": "markdown",
   "metadata": {},
   "source": [
    "### Ячейка 6: Функции Collate"
   ]
  },
  {
   "cell_type": "code",
   "execution_count": 8,
   "metadata": {
    "execution": {
     "iopub.execute_input": "2025-04-19T14:35:03.586713Z",
     "iopub.status.busy": "2025-04-19T14:35:03.586425Z",
     "iopub.status.idle": "2025-04-19T14:35:03.600668Z",
     "shell.execute_reply": "2025-04-19T14:35:03.600029Z",
     "shell.execute_reply.started": "2025-04-19T14:35:03.586684Z"
    },
    "trusted": true
   },
   "outputs": [
    {
     "name": "stdout",
     "output_type": "stream",
     "text": [
      "Функции collate_fn и collate_fn_test определены.\n"
     ]
    }
   ],
   "source": [
    "# Функции collate_fn и collate_fn_test - БЕЗ ИЗМЕНЕНИЙ\n",
    "# (Скопируйте их из вашего предыдущего ноутбука)\n",
    "def collate_fn(batch):\n",
    "    batch = [item for item in batch if item is not None]\n",
    "    if not batch: return torch.tensor([]), torch.tensor([]), torch.tensor([]), torch.tensor([])\n",
    "    features = [item[0].T for item in batch] # [Time, Freq]\n",
    "    texts = [item[1] for item in batch]\n",
    "    features_padded = pad_sequence(features, batch_first=True, padding_value=0.0) # [Batch, Time, Freq]\n",
    "    features_padded = features_padded.permute(0, 2, 1) # -> [Batch, Freq, Time]\n",
    "    input_lengths = torch.tensor([f.shape[1] for item in batch for f in [item[0]]], dtype=torch.long)\n",
    "    targets = torch.cat(texts, dim=0)\n",
    "    target_lengths = torch.tensor([len(text) for text in texts], dtype=torch.long)\n",
    "    return features_padded, input_lengths, targets, target_lengths\n",
    "\n",
    "def collate_fn_test(batch):\n",
    "    batch = [item for item in batch if item is not None]\n",
    "    if not batch: return torch.tensor([]), torch.tensor([]), []\n",
    "    features = [item[0].T for item in batch] # [Time, Freq]\n",
    "    ids = [item[1] for item in batch]\n",
    "    features_padded = pad_sequence(features, batch_first=True, padding_value=0.0) # [Batch, Time, Freq]\n",
    "    features_padded = features_padded.permute(0, 2, 1) # -> [Batch, Freq, Time]\n",
    "    input_lengths = torch.tensor([f.shape[1] for item in batch for f in [item[0]]], dtype=torch.long)\n",
    "    return features_padded, input_lengths, ids\n",
    "\n",
    "print(\"Функции collate_fn и collate_fn_test определены.\")"
   ]
  },
  {
   "cell_type": "markdown",
   "metadata": {},
   "source": [
    "### Ячейка 7: Класс Модели (CRNNModel_4Layer)"
   ]
  },
  {
   "cell_type": "code",
   "execution_count": 9,
   "metadata": {
    "execution": {
     "iopub.execute_input": "2025-04-19T14:35:03.601494Z",
     "iopub.status.busy": "2025-04-19T14:35:03.601289Z",
     "iopub.status.idle": "2025-04-19T14:35:03.621397Z",
     "shell.execute_reply": "2025-04-19T14:35:03.620435Z",
     "shell.execute_reply.started": "2025-04-19T14:35:03.601478Z"
    },
    "trusted": true
   },
   "outputs": [
    {
     "name": "stdout",
     "output_type": "stream",
     "text": [
      "Класс модели CRNNModel_4Layer определен.\n"
     ]
    }
   ],
   "source": [
    "# Класс CRNNModel_4Layer - БЕЗ ИЗМЕНЕНИЙ\n",
    "# (Скопируйте его из вашего ноутбука с 4-слойной моделью)\n",
    "class CRNNModel_4Layer(nn.Module):\n",
    "    def __init__(self, n_features, num_classes, rnn_hidden_size=256,\n",
    "                 num_rnn_layers=2, cnn_dropout=0.15, rnn_dropout=0.15):\n",
    "        super().__init__()\n",
    "        self.n_features = n_features\n",
    "        self.num_classes = num_classes\n",
    "        self.rnn_hidden_size = rnn_hidden_size\n",
    "        self.time_reduction_factor = 16 # Важно! 2*2*2*2 по времени\n",
    "\n",
    "        self.cnn = nn.Sequential(\n",
    "            nn.Conv2d(1, 32, kernel_size=3, padding=1), nn.BatchNorm2d(32), nn.ReLU(),\n",
    "            nn.MaxPool2d(kernel_size=(2, 2), stride=(2, 2)), # F/2, T/2\n",
    "            nn.Conv2d(32, 64, kernel_size=3, padding=1), nn.BatchNorm2d(64), nn.ReLU(),\n",
    "            nn.MaxPool2d(kernel_size=(2, 2), stride=(2, 2)), # F/4, T/4\n",
    "            nn.Conv2d(64, 128, kernel_size=3, padding=1), nn.BatchNorm2d(128), nn.ReLU(),\n",
    "            nn.MaxPool2d(kernel_size=(1, 2), stride=(1, 2)), # F/4, T/8\n",
    "            nn.Conv2d(128, 128, kernel_size=3, padding=1), nn.BatchNorm2d(128), nn.ReLU(),\n",
    "            nn.MaxPool2d(kernel_size=(1, 2), stride=(1, 2))  # F/4, T/16\n",
    "        )\n",
    "        self.cnn_dropout = nn.Dropout(cnn_dropout)\n",
    "\n",
    "        with torch.no_grad():\n",
    "            dummy_input = torch.randn(1, 1, self.n_features, 512)\n",
    "            cnn_out = self.cnn(dummy_input)\n",
    "            self.cnn_output_features = cnn_out.shape[1] * cnn_out.shape[2]\n",
    "            print(f\"Модель {self.__class__.__name__}: Выход CNN для RNN = {self.cnn_output_features} признаков (C={cnn_out.shape[1]}, F'={cnn_out.shape[2]})\")\n",
    "            print(f\"Модель {self.__class__.__name__}: Фактор сокращения времени CNN = {self.time_reduction_factor}x\")\n",
    "\n",
    "        actual_rnn_dropout = rnn_dropout if num_rnn_layers > 1 else 0.0\n",
    "        self.rnn = nn.LSTM(\n",
    "            input_size=self.cnn_output_features, hidden_size=self.rnn_hidden_size,\n",
    "            num_layers=num_rnn_layers, bidirectional=True, batch_first=False,\n",
    "            dropout=actual_rnn_dropout)\n",
    "\n",
    "        self.layer_norm = nn.LayerNorm(2 * self.rnn_hidden_size)\n",
    "        self.fc = nn.Linear(2 * self.rnn_hidden_size, num_classes)\n",
    "\n",
    "    def _calculate_output_lengths(self, input_lengths: torch.Tensor) -> torch.Tensor:\n",
    "        output_lengths = torch.div(input_lengths, self.time_reduction_factor, rounding_mode='floor')\n",
    "        return torch.clamp(output_lengths, min=1).long()\n",
    "\n",
    "    def forward(self, x: torch.Tensor, input_lengths: torch.Tensor) -> tuple[torch.Tensor, torch.Tensor]:\n",
    "        x = x.unsqueeze(1) # [B, 1, F, T]\n",
    "        x = self.cnn(x)    # [B, C, F', T']\n",
    "        output_lengths = self._calculate_output_lengths(input_lengths)\n",
    "        N, Ch, F_prime, T_prime = x.shape\n",
    "        x = x.permute(3, 0, 1, 2) # [T', B, C, F']\n",
    "        x = x.reshape(T_prime, N, Ch * F_prime) # [T', B, Features]\n",
    "        x = self.cnn_dropout(x)\n",
    "        x, _ = self.rnn(x)      # [T', B, 2*H]\n",
    "        x = self.layer_norm(x)\n",
    "        x = self.fc(x)          # [T', B, N_Classes]\n",
    "        log_probs = F.log_softmax(x, dim=2)\n",
    "        return log_probs, output_lengths\n",
    "\n",
    "print(f\"Класс модели {config['MODEL']['type']} определен.\")"
   ]
  },
  {
   "cell_type": "markdown",
   "metadata": {},
   "source": [
    "### Ячейка 8: Загрузка Метаданных и Создание Алфавита"
   ]
  },
  {
   "cell_type": "code",
   "execution_count": 10,
   "metadata": {
    "execution": {
     "iopub.execute_input": "2025-04-19T14:35:03.623819Z",
     "iopub.status.busy": "2025-04-19T14:35:03.623477Z",
     "iopub.status.idle": "2025-04-19T14:35:03.748999Z",
     "shell.execute_reply": "2025-04-19T14:35:03.748367Z",
     "shell.execute_reply.started": "2025-04-19T14:35:03.623792Z"
    },
    "trusted": true
   },
   "outputs": [
    {
     "name": "stdout",
     "output_type": "stream",
     "text": [
      "\n",
      "Загрузка метаданных и создание алфавита...\n",
      "Записей для обучения (после фильтрации): 30000\n",
      "Алфавит создан (45 классов). Blank: '<blank>' (0)\n",
      "Символы: <blank> #0123456789АБВГДЕЖЗИЙКЛМНОПРСТУФХЦЧШЩЪЫЬЭЮЯ\n"
     ]
    }
   ],
   "source": [
    "print(\"\\nЗагрузка метаданных и создание алфавита...\")\n",
    "try:\n",
    "    train_df_full = pd.read_csv(config[\"TRAIN_CSV_PATH\"])\n",
    "except FileNotFoundError as e: print(f\"Ошибка: {e}\"); raise\n",
    "train_df_full[config[\"TARGET_COLUMN\"]] = train_df_full[config[\"TARGET_COLUMN\"]].fillna('').astype(str)\n",
    "train_df_filtered = train_df_full[train_df_full[config[\"TARGET_COLUMN\"]].str.len() > 0].copy()\n",
    "print(f\"Записей для обучения (после фильтрации): {len(train_df_filtered)}\")\n",
    "if len(train_df_filtered) == 0: raise ValueError(\"Нет валидных таргетов!\")\n",
    "\n",
    "# Создание алфавита\n",
    "all_chars = set(train_df_filtered[config[\"TARGET_COLUMN\"]].str.cat(sep=''))\n",
    "chars = [BLANK_CHAR] + sorted(list(all_chars))\n",
    "char_to_int = {char: i for i, char in enumerate(chars)}\n",
    "int_to_char = {i: char for i, char in enumerate(chars)}\n",
    "NUM_CLASSES = len(chars)\n",
    "blank_index = char_to_int[BLANK_CHAR]\n",
    "print(f\"Алфавит создан ({NUM_CLASSES} классов). Blank: '{BLANK_CHAR}' ({blank_index})\")\n",
    "print(f\"Символы: {''.join(chars)}\")"
   ]
  },
  {
   "cell_type": "markdown",
   "metadata": {},
   "source": [
    "### Ячейка 9: Подготовка Данных (Сплит, Датасеты, Лоадеры)"
   ]
  },
  {
   "cell_type": "code",
   "execution_count": 11,
   "metadata": {
    "execution": {
     "iopub.execute_input": "2025-04-19T14:35:03.750231Z",
     "iopub.status.busy": "2025-04-19T14:35:03.749868Z",
     "iopub.status.idle": "2025-04-19T14:35:03.838946Z",
     "shell.execute_reply": "2025-04-19T14:35:03.838330Z",
     "shell.execute_reply.started": "2025-04-19T14:35:03.750212Z"
    },
    "trusted": true
   },
   "outputs": [
    {
     "name": "stdout",
     "output_type": "stream",
     "text": [
      "\n",
      "Подготовка данных для обучения...\n",
      "Размеры выборок: Train=27000, Validation=3000\n",
      "Датасеты созданы.\n",
      "Лоадеры созданы.\n"
     ]
    }
   ],
   "source": [
    "print(\"\\nПодготовка данных для обучения...\")\n",
    "\n",
    "# --- Сплит ---\n",
    "train_df, val_df = train_test_split(\n",
    "    train_df_filtered,\n",
    "    test_size=config['TRAINING']['validation_split_size'],\n",
    "    random_state=config['SEED']\n",
    ")\n",
    "train_df = train_df.reset_index(drop=True)\n",
    "val_df = val_df.reset_index(drop=True)\n",
    "print(f\"Размеры выборок: Train={len(train_df)}, Validation={len(val_df)}\")\n",
    "\n",
    "# --- Датасеты ---\n",
    "train_dataset = MorseDataset(\n",
    "    data_frame=train_df, audio_base_path=config[\"AUDIO_BASE_PATH\"], char_map=char_to_int,\n",
    "    file_path_column=config[\"FILE_PATH_COLUMN\"], target_column=config[\"TARGET_COLUMN\"],\n",
    "    audio_cfg=config[\"AUDIO\"], preproc_cfg=config[\"PREPROCESSING\"], aug_cfg=config[\"AUGMENTATION\"],\n",
    "    is_train=True\n",
    ")\n",
    "val_dataset = MorseDataset(\n",
    "    data_frame=val_df, audio_base_path=config[\"AUDIO_BASE_PATH\"], char_map=char_to_int,\n",
    "    file_path_column=config[\"FILE_PATH_COLUMN\"], target_column=config[\"TARGET_COLUMN\"],\n",
    "    audio_cfg=config[\"AUDIO\"], preproc_cfg=config[\"PREPROCESSING\"], aug_cfg=None, # Нет аугментаций для val\n",
    "    is_train=False\n",
    ")\n",
    "print(\"Датасеты созданы.\")\n",
    "\n",
    "# --- Лоадеры ---\n",
    "train_loader = DataLoader(\n",
    "    train_dataset, batch_size=config['TRAINING']['batch_size'], shuffle=True,\n",
    "    collate_fn=collate_fn, num_workers=config['TRAINING']['num_workers'],\n",
    "    pin_memory=torch.cuda.is_available(), persistent_workers=(config['TRAINING']['num_workers'] > 0)\n",
    ")\n",
    "val_loader = DataLoader(\n",
    "    val_dataset, batch_size=config['INFERENCE']['batch_size'], shuffle=False, # Используем инференс BS для val\n",
    "    collate_fn=collate_fn, num_workers=config['TRAINING']['num_workers'],\n",
    "    pin_memory=torch.cuda.is_available(), persistent_workers=(config['TRAINING']['num_workers'] > 0)\n",
    ")\n",
    "print(\"Лоадеры созданы.\")"
   ]
  },
  {
   "cell_type": "markdown",
   "metadata": {},
   "source": [
    "### Ячейка 10: Настройка Обучения (Модель, Лосс, Оптимизатор, Планировщик)"
   ]
  },
  {
   "cell_type": "code",
   "execution_count": 12,
   "metadata": {
    "execution": {
     "iopub.execute_input": "2025-04-19T14:35:03.839931Z",
     "iopub.status.busy": "2025-04-19T14:35:03.839722Z",
     "iopub.status.idle": "2025-04-19T14:35:06.586407Z",
     "shell.execute_reply": "2025-04-19T14:35:06.585632Z",
     "shell.execute_reply.started": "2025-04-19T14:35:03.839916Z"
    },
    "trusted": true
   },
   "outputs": [
    {
     "name": "stdout",
     "output_type": "stream",
     "text": [
      "\n",
      "Настройка компонентов обучения...\n",
      "Модель CRNNModel_4Layer: Выход CNN для RNN = 2048 признаков (C=128, F'=16)\n",
      "Модель CRNNModel_4Layer: Фактор сокращения времени CNN = 16x\n",
      "Модель CRNNModel_4Layer создана (6,564,717 параметров) на cuda.\n",
      "Оптимизатор: AdamW (LR=0.0003, WD=1e-05)\n",
      "Планировщик: ReduceLROnPlateau\n"
     ]
    },
    {
     "name": "stderr",
     "output_type": "stream",
     "text": [
      "/usr/local/lib/python3.11/dist-packages/torch/optim/lr_scheduler.py:62: UserWarning: The verbose parameter is deprecated. Please use get_last_lr() to access the learning rate.\n",
      "  warnings.warn(\n"
     ]
    }
   ],
   "source": [
    "print(\"\\nНастройка компонентов обучения...\")\n",
    "\n",
    "# --- Модель ---\n",
    "# Убедимся, что класс модели соответствует конфигу (здесь CRNNModel_4Layer)\n",
    "if config['MODEL']['type'] == 'CRNNModel_4Layer':\n",
    "    model = CRNNModel_4Layer(\n",
    "        n_features=config['AUDIO']['n_mels'], num_classes=NUM_CLASSES,\n",
    "        rnn_hidden_size=config['MODEL']['rnn_hidden_size'], num_rnn_layers=config['MODEL']['rnn_num_layers'],\n",
    "        cnn_dropout=config['MODEL']['cnn_dropout'], rnn_dropout=config['MODEL']['rnn_dropout']\n",
    "    ).to(DEVICE)\n",
    "else:\n",
    "    raise ValueError(f\"Неизвестный тип модели в конфиге: {config['MODEL']['type']}\")\n",
    "\n",
    "num_params = sum(p.numel() for p in model.parameters() if p.requires_grad)\n",
    "print(f\"Модель {config['MODEL']['type']} создана ({num_params:,} параметров) на {DEVICE}.\")\n",
    "\n",
    "# --- Функция Потерь ---\n",
    "criterion = nn.CTCLoss(blank=blank_index, reduction='mean', zero_infinity=True).to(DEVICE)\n",
    "\n",
    "# --- Оптимизатор ---\n",
    "lr = config['TRAINING']['learning_rate']\n",
    "wd = config['TRAINING']['optimizer_weight_decay']\n",
    "if config['TRAINING']['optimizer'] == 'AdamW':\n",
    "    optimizer = optim.AdamW(model.parameters(), lr=lr, weight_decay=wd)\n",
    "elif config['TRAINING']['optimizer'] == 'Adam':\n",
    "     optimizer = optim.Adam(model.parameters(), lr=lr, weight_decay=wd)\n",
    "else:\n",
    "     raise ValueError(f\"Неизвестный оптимизатор: {config['TRAINING']['optimizer']}\")\n",
    "print(f\"Оптимизатор: {config['TRAINING']['optimizer']} (LR={lr}, WD={wd})\")\n",
    "\n",
    "# --- Планировщик ---\n",
    "scheduler = None\n",
    "if config['TRAINING']['scheduler'] == 'ReduceLROnPlateau':\n",
    "    scheduler = ReduceLROnPlateau(optimizer, mode='min',\n",
    "                                  factor=config['TRAINING']['scheduler_factor'],\n",
    "                                  patience=config['TRAINING']['scheduler_patience'],\n",
    "                                  verbose=True)\n",
    "elif config['TRAINING']['scheduler'] == 'CosineAnnealingLR':\n",
    "    scheduler = CosineAnnealingLR(optimizer, T_max=config['TRAINING']['num_epochs'], eta_min=lr / 100)\n",
    "elif config['TRAINING']['scheduler'] is not None and config['TRAINING']['scheduler'] != 'None':\n",
    "     raise ValueError(f\"Неизвестный планировщик: {config['TRAINING']['scheduler']}\")\n",
    "print(f\"Планировщик: {config['TRAINING']['scheduler']}\")"
   ]
  },
  {
   "cell_type": "markdown",
   "metadata": {},
   "source": [
    "### Ячейка 11: Цикл Обучения"
   ]
  },
  {
   "cell_type": "code",
   "execution_count": 13,
   "metadata": {
    "execution": {
     "iopub.execute_input": "2025-04-19T14:35:06.587637Z",
     "iopub.status.busy": "2025-04-19T14:35:06.587215Z",
     "iopub.status.idle": "2025-04-19T17:20:09.402549Z",
     "shell.execute_reply": "2025-04-19T17:20:09.401786Z",
     "shell.execute_reply.started": "2025-04-19T14:35:06.587611Z"
    },
    "trusted": true
   },
   "outputs": [
    {
     "name": "stdout",
     "output_type": "stream",
     "text": [
      "Epoch,Train Loss,Val Loss,Val Levenshtein,Val CER,Time(s),LR\n",
      "\n",
      "--- Старт Обучения (40 эпох на cuda) ---\n"
     ]
    },
    {
     "data": {
      "application/vnd.jupyter.widget-view+json": {
       "model_id": "",
       "version_major": 2,
       "version_minor": 0
      },
      "text/plain": [
       "Epoch 1/40 [Train]:   0%|          | 0/211 [00:00<?, ?it/s]"
      ]
     },
     "metadata": {},
     "output_type": "display_data"
    },
    {
     "data": {
      "application/vnd.jupyter.widget-view+json": {
       "model_id": "",
       "version_major": 2,
       "version_minor": 0
      },
      "text/plain": [
       "Epoch 1/40 [Val]:   0%|          | 0/47 [00:00<?, ?it/s]"
      ]
     },
     "metadata": {},
     "output_type": "display_data"
    },
    {
     "name": "stdout",
     "output_type": "stream",
     "text": [
      "E01 [283.1s] | TrL=4.0501 | VL=4.0045 | VLev=8.9110 | VCER=1.0000 | LR=3.0e-04\n",
      "  -> Best model saved: morse_crnn_4layer_norm_aug_v1_best_ep1_lev8.9110.pth\n"
     ]
    },
    {
     "data": {
      "application/vnd.jupyter.widget-view+json": {
       "model_id": "",
       "version_major": 2,
       "version_minor": 0
      },
      "text/plain": [
       "Epoch 2/40 [Train]:   0%|          | 0/211 [00:00<?, ?it/s]"
      ]
     },
     "metadata": {},
     "output_type": "display_data"
    },
    {
     "data": {
      "application/vnd.jupyter.widget-view+json": {
       "model_id": "",
       "version_major": 2,
       "version_minor": 0
      },
      "text/plain": [
       "Epoch 2/40 [Val]:   0%|          | 0/47 [00:00<?, ?it/s]"
      ]
     },
     "metadata": {},
     "output_type": "display_data"
    },
    {
     "name": "stdout",
     "output_type": "stream",
     "text": [
      "E02 [244.8s] | TrL=3.9941 | VL=4.0188 | VLev=8.5707 | VCER=0.9618 | LR=3.0e-04\n",
      "  -> Best model saved: morse_crnn_4layer_norm_aug_v1_best_ep2_lev8.5707.pth\n"
     ]
    },
    {
     "data": {
      "application/vnd.jupyter.widget-view+json": {
       "model_id": "",
       "version_major": 2,
       "version_minor": 0
      },
      "text/plain": [
       "Epoch 3/40 [Train]:   0%|          | 0/211 [00:00<?, ?it/s]"
      ]
     },
     "metadata": {},
     "output_type": "display_data"
    },
    {
     "data": {
      "application/vnd.jupyter.widget-view+json": {
       "model_id": "",
       "version_major": 2,
       "version_minor": 0
      },
      "text/plain": [
       "Epoch 3/40 [Val]:   0%|          | 0/47 [00:00<?, ?it/s]"
      ]
     },
     "metadata": {},
     "output_type": "display_data"
    },
    {
     "name": "stdout",
     "output_type": "stream",
     "text": [
      "E03 [247.7s] | TrL=3.8933 | VL=4.0825 | VLev=8.5630 | VCER=0.9609 | LR=3.0e-04\n",
      "  -> Best model saved: morse_crnn_4layer_norm_aug_v1_best_ep3_lev8.5630.pth\n"
     ]
    },
    {
     "data": {
      "application/vnd.jupyter.widget-view+json": {
       "model_id": "",
       "version_major": 2,
       "version_minor": 0
      },
      "text/plain": [
       "Epoch 4/40 [Train]:   0%|          | 0/211 [00:00<?, ?it/s]"
      ]
     },
     "metadata": {},
     "output_type": "display_data"
    },
    {
     "data": {
      "application/vnd.jupyter.widget-view+json": {
       "model_id": "",
       "version_major": 2,
       "version_minor": 0
      },
      "text/plain": [
       "Epoch 4/40 [Val]:   0%|          | 0/47 [00:00<?, ?it/s]"
      ]
     },
     "metadata": {},
     "output_type": "display_data"
    },
    {
     "name": "stdout",
     "output_type": "stream",
     "text": [
      "E04 [242.7s] | TrL=2.9602 | VL=1.7407 | VLev=4.2227 | VCER=0.4766 | LR=3.0e-04\n",
      "  -> Best model saved: morse_crnn_4layer_norm_aug_v1_best_ep4_lev4.2227.pth\n"
     ]
    },
    {
     "data": {
      "application/vnd.jupyter.widget-view+json": {
       "model_id": "",
       "version_major": 2,
       "version_minor": 0
      },
      "text/plain": [
       "Epoch 5/40 [Train]:   0%|          | 0/211 [00:00<?, ?it/s]"
      ]
     },
     "metadata": {},
     "output_type": "display_data"
    },
    {
     "data": {
      "application/vnd.jupyter.widget-view+json": {
       "model_id": "",
       "version_major": 2,
       "version_minor": 0
      },
      "text/plain": [
       "Epoch 5/40 [Val]:   0%|          | 0/47 [00:00<?, ?it/s]"
      ]
     },
     "metadata": {},
     "output_type": "display_data"
    },
    {
     "name": "stdout",
     "output_type": "stream",
     "text": [
      "E05 [244.2s] | TrL=1.3112 | VL=1.0371 | VLev=2.6267 | VCER=0.2950 | LR=3.0e-04\n",
      "  -> Best model saved: morse_crnn_4layer_norm_aug_v1_best_ep5_lev2.6267.pth\n"
     ]
    },
    {
     "data": {
      "application/vnd.jupyter.widget-view+json": {
       "model_id": "",
       "version_major": 2,
       "version_minor": 0
      },
      "text/plain": [
       "Epoch 6/40 [Train]:   0%|          | 0/211 [00:00<?, ?it/s]"
      ]
     },
     "metadata": {},
     "output_type": "display_data"
    },
    {
     "data": {
      "application/vnd.jupyter.widget-view+json": {
       "model_id": "",
       "version_major": 2,
       "version_minor": 0
      },
      "text/plain": [
       "Epoch 6/40 [Val]:   0%|          | 0/47 [00:00<?, ?it/s]"
      ]
     },
     "metadata": {},
     "output_type": "display_data"
    },
    {
     "name": "stdout",
     "output_type": "stream",
     "text": [
      "E06 [246.9s] | TrL=0.8658 | VL=0.5759 | VLev=1.3573 | VCER=0.1525 | LR=3.0e-04\n",
      "  -> Best model saved: morse_crnn_4layer_norm_aug_v1_best_ep6_lev1.3573.pth\n"
     ]
    },
    {
     "data": {
      "application/vnd.jupyter.widget-view+json": {
       "model_id": "",
       "version_major": 2,
       "version_minor": 0
      },
      "text/plain": [
       "Epoch 7/40 [Train]:   0%|          | 0/211 [00:00<?, ?it/s]"
      ]
     },
     "metadata": {},
     "output_type": "display_data"
    },
    {
     "data": {
      "application/vnd.jupyter.widget-view+json": {
       "model_id": "",
       "version_major": 2,
       "version_minor": 0
      },
      "text/plain": [
       "Epoch 7/40 [Val]:   0%|          | 0/47 [00:00<?, ?it/s]"
      ]
     },
     "metadata": {},
     "output_type": "display_data"
    },
    {
     "name": "stdout",
     "output_type": "stream",
     "text": [
      "E07 [248.0s] | TrL=0.6921 | VL=0.4959 | VLev=1.1430 | VCER=0.1285 | LR=3.0e-04\n",
      "  -> Best model saved: morse_crnn_4layer_norm_aug_v1_best_ep7_lev1.1430.pth\n"
     ]
    },
    {
     "data": {
      "application/vnd.jupyter.widget-view+json": {
       "model_id": "",
       "version_major": 2,
       "version_minor": 0
      },
      "text/plain": [
       "Epoch 8/40 [Train]:   0%|          | 0/211 [00:00<?, ?it/s]"
      ]
     },
     "metadata": {},
     "output_type": "display_data"
    },
    {
     "data": {
      "application/vnd.jupyter.widget-view+json": {
       "model_id": "",
       "version_major": 2,
       "version_minor": 0
      },
      "text/plain": [
       "Epoch 8/40 [Val]:   0%|          | 0/47 [00:00<?, ?it/s]"
      ]
     },
     "metadata": {},
     "output_type": "display_data"
    },
    {
     "name": "stdout",
     "output_type": "stream",
     "text": [
      "E08 [246.1s] | TrL=0.6059 | VL=0.4530 | VLev=1.0427 | VCER=0.1171 | LR=3.0e-04\n",
      "  -> Best model saved: morse_crnn_4layer_norm_aug_v1_best_ep8_lev1.0427.pth\n"
     ]
    },
    {
     "data": {
      "application/vnd.jupyter.widget-view+json": {
       "model_id": "",
       "version_major": 2,
       "version_minor": 0
      },
      "text/plain": [
       "Epoch 9/40 [Train]:   0%|          | 0/211 [00:00<?, ?it/s]"
      ]
     },
     "metadata": {},
     "output_type": "display_data"
    },
    {
     "data": {
      "application/vnd.jupyter.widget-view+json": {
       "model_id": "",
       "version_major": 2,
       "version_minor": 0
      },
      "text/plain": [
       "Epoch 9/40 [Val]:   0%|          | 0/47 [00:00<?, ?it/s]"
      ]
     },
     "metadata": {},
     "output_type": "display_data"
    },
    {
     "name": "stdout",
     "output_type": "stream",
     "text": [
      "E09 [242.3s] | TrL=0.5526 | VL=0.4171 | VLev=0.9887 | VCER=0.1111 | LR=3.0e-04\n",
      "  -> Best model saved: morse_crnn_4layer_norm_aug_v1_best_ep9_lev0.9887.pth\n"
     ]
    },
    {
     "data": {
      "application/vnd.jupyter.widget-view+json": {
       "model_id": "",
       "version_major": 2,
       "version_minor": 0
      },
      "text/plain": [
       "Epoch 10/40 [Train]:   0%|          | 0/211 [00:00<?, ?it/s]"
      ]
     },
     "metadata": {},
     "output_type": "display_data"
    },
    {
     "data": {
      "application/vnd.jupyter.widget-view+json": {
       "model_id": "",
       "version_major": 2,
       "version_minor": 0
      },
      "text/plain": [
       "Epoch 10/40 [Val]:   0%|          | 0/47 [00:00<?, ?it/s]"
      ]
     },
     "metadata": {},
     "output_type": "display_data"
    },
    {
     "name": "stdout",
     "output_type": "stream",
     "text": [
      "E10 [249.7s] | TrL=0.5180 | VL=0.4011 | VLev=0.9333 | VCER=0.1049 | LR=3.0e-04\n",
      "  -> Best model saved: morse_crnn_4layer_norm_aug_v1_best_ep10_lev0.9333.pth\n"
     ]
    },
    {
     "data": {
      "application/vnd.jupyter.widget-view+json": {
       "model_id": "",
       "version_major": 2,
       "version_minor": 0
      },
      "text/plain": [
       "Epoch 11/40 [Train]:   0%|          | 0/211 [00:00<?, ?it/s]"
      ]
     },
     "metadata": {},
     "output_type": "display_data"
    },
    {
     "data": {
      "application/vnd.jupyter.widget-view+json": {
       "model_id": "",
       "version_major": 2,
       "version_minor": 0
      },
      "text/plain": [
       "Epoch 11/40 [Val]:   0%|          | 0/47 [00:00<?, ?it/s]"
      ]
     },
     "metadata": {},
     "output_type": "display_data"
    },
    {
     "name": "stdout",
     "output_type": "stream",
     "text": [
      "E11 [243.6s] | TrL=0.4814 | VL=0.3462 | VLev=0.8000 | VCER=0.0900 | LR=3.0e-04\n",
      "  -> Best model saved: morse_crnn_4layer_norm_aug_v1_best_ep11_lev0.8000.pth\n"
     ]
    },
    {
     "data": {
      "application/vnd.jupyter.widget-view+json": {
       "model_id": "",
       "version_major": 2,
       "version_minor": 0
      },
      "text/plain": [
       "Epoch 12/40 [Train]:   0%|          | 0/211 [00:00<?, ?it/s]"
      ]
     },
     "metadata": {},
     "output_type": "display_data"
    },
    {
     "data": {
      "application/vnd.jupyter.widget-view+json": {
       "model_id": "",
       "version_major": 2,
       "version_minor": 0
      },
      "text/plain": [
       "Epoch 12/40 [Val]:   0%|          | 0/47 [00:00<?, ?it/s]"
      ]
     },
     "metadata": {},
     "output_type": "display_data"
    },
    {
     "name": "stdout",
     "output_type": "stream",
     "text": [
      "E12 [245.1s] | TrL=0.4598 | VL=0.3457 | VLev=0.8050 | VCER=0.0905 | LR=3.0e-04\n"
     ]
    },
    {
     "data": {
      "application/vnd.jupyter.widget-view+json": {
       "model_id": "",
       "version_major": 2,
       "version_minor": 0
      },
      "text/plain": [
       "Epoch 13/40 [Train]:   0%|          | 0/211 [00:00<?, ?it/s]"
      ]
     },
     "metadata": {},
     "output_type": "display_data"
    },
    {
     "data": {
      "application/vnd.jupyter.widget-view+json": {
       "model_id": "",
       "version_major": 2,
       "version_minor": 0
      },
      "text/plain": [
       "Epoch 13/40 [Val]:   0%|          | 0/47 [00:00<?, ?it/s]"
      ]
     },
     "metadata": {},
     "output_type": "display_data"
    },
    {
     "name": "stdout",
     "output_type": "stream",
     "text": [
      "E13 [243.1s] | TrL=0.4430 | VL=0.3245 | VLev=0.7740 | VCER=0.0870 | LR=3.0e-04\n",
      "  -> Best model saved: morse_crnn_4layer_norm_aug_v1_best_ep13_lev0.7740.pth\n"
     ]
    },
    {
     "data": {
      "application/vnd.jupyter.widget-view+json": {
       "model_id": "",
       "version_major": 2,
       "version_minor": 0
      },
      "text/plain": [
       "Epoch 14/40 [Train]:   0%|          | 0/211 [00:00<?, ?it/s]"
      ]
     },
     "metadata": {},
     "output_type": "display_data"
    },
    {
     "data": {
      "application/vnd.jupyter.widget-view+json": {
       "model_id": "",
       "version_major": 2,
       "version_minor": 0
      },
      "text/plain": [
       "Epoch 14/40 [Val]:   0%|          | 0/47 [00:00<?, ?it/s]"
      ]
     },
     "metadata": {},
     "output_type": "display_data"
    },
    {
     "name": "stdout",
     "output_type": "stream",
     "text": [
      "E14 [244.0s] | TrL=0.4248 | VL=0.3016 | VLev=0.7230 | VCER=0.0812 | LR=3.0e-04\n",
      "  -> Best model saved: morse_crnn_4layer_norm_aug_v1_best_ep14_lev0.7230.pth\n"
     ]
    },
    {
     "data": {
      "application/vnd.jupyter.widget-view+json": {
       "model_id": "",
       "version_major": 2,
       "version_minor": 0
      },
      "text/plain": [
       "Epoch 15/40 [Train]:   0%|          | 0/211 [00:00<?, ?it/s]"
      ]
     },
     "metadata": {},
     "output_type": "display_data"
    },
    {
     "data": {
      "application/vnd.jupyter.widget-view+json": {
       "model_id": "",
       "version_major": 2,
       "version_minor": 0
      },
      "text/plain": [
       "Epoch 15/40 [Val]:   0%|          | 0/47 [00:00<?, ?it/s]"
      ]
     },
     "metadata": {},
     "output_type": "display_data"
    },
    {
     "name": "stdout",
     "output_type": "stream",
     "text": [
      "E15 [243.4s] | TrL=0.4059 | VL=0.2944 | VLev=0.6903 | VCER=0.0776 | LR=3.0e-04\n",
      "  -> Best model saved: morse_crnn_4layer_norm_aug_v1_best_ep15_lev0.6903.pth\n"
     ]
    },
    {
     "data": {
      "application/vnd.jupyter.widget-view+json": {
       "model_id": "",
       "version_major": 2,
       "version_minor": 0
      },
      "text/plain": [
       "Epoch 16/40 [Train]:   0%|          | 0/211 [00:00<?, ?it/s]"
      ]
     },
     "metadata": {},
     "output_type": "display_data"
    },
    {
     "data": {
      "application/vnd.jupyter.widget-view+json": {
       "model_id": "",
       "version_major": 2,
       "version_minor": 0
      },
      "text/plain": [
       "Epoch 16/40 [Val]:   0%|          | 0/47 [00:00<?, ?it/s]"
      ]
     },
     "metadata": {},
     "output_type": "display_data"
    },
    {
     "name": "stdout",
     "output_type": "stream",
     "text": [
      "E16 [243.8s] | TrL=0.3914 | VL=0.2857 | VLev=0.6890 | VCER=0.0775 | LR=3.0e-04\n",
      "  -> Best model saved: morse_crnn_4layer_norm_aug_v1_best_ep16_lev0.6890.pth\n"
     ]
    },
    {
     "data": {
      "application/vnd.jupyter.widget-view+json": {
       "model_id": "",
       "version_major": 2,
       "version_minor": 0
      },
      "text/plain": [
       "Epoch 17/40 [Train]:   0%|          | 0/211 [00:00<?, ?it/s]"
      ]
     },
     "metadata": {},
     "output_type": "display_data"
    },
    {
     "data": {
      "application/vnd.jupyter.widget-view+json": {
       "model_id": "7d4d15491efd4002b83c3006b191cfe0",
       "version_major": 2,
       "version_minor": 0
      },
      "text/plain": [
       "Epoch 17/40 [Val]:   0%|          | 0/47 [00:00<?, ?it/s]"
      ]
     },
     "metadata": {},
     "output_type": "display_data"
    },
    {
     "name": "stdout",
     "output_type": "stream",
     "text": [
      "E17 [242.2s] | TrL=0.3788 | VL=0.2883 | VLev=0.6980 | VCER=0.0784 | LR=3.0e-04\n"
     ]
    },
    {
     "data": {
      "application/vnd.jupyter.widget-view+json": {
       "model_id": "f59ccb208d8243e8a06aebb6be3d3ece",
       "version_major": 2,
       "version_minor": 0
      },
      "text/plain": [
       "Epoch 18/40 [Train]:   0%|          | 0/211 [00:00<?, ?it/s]"
      ]
     },
     "metadata": {},
     "output_type": "display_data"
    },
    {
     "data": {
      "application/vnd.jupyter.widget-view+json": {
       "model_id": "585d5b64c5ff43258221ad8bbdfc1c33",
       "version_major": 2,
       "version_minor": 0
      },
      "text/plain": [
       "Epoch 18/40 [Val]:   0%|          | 0/47 [00:00<?, ?it/s]"
      ]
     },
     "metadata": {},
     "output_type": "display_data"
    },
    {
     "name": "stdout",
     "output_type": "stream",
     "text": [
      "E18 [240.9s] | TrL=0.3703 | VL=0.2774 | VLev=0.6673 | VCER=0.0750 | LR=3.0e-04\n",
      "  -> Best model saved: morse_crnn_4layer_norm_aug_v1_best_ep18_lev0.6673.pth\n"
     ]
    },
    {
     "data": {
      "application/vnd.jupyter.widget-view+json": {
       "model_id": "e488788bfe8542a3b1c0d1dceaa1e3db",
       "version_major": 2,
       "version_minor": 0
      },
      "text/plain": [
       "Epoch 19/40 [Train]:   0%|          | 0/211 [00:00<?, ?it/s]"
      ]
     },
     "metadata": {},
     "output_type": "display_data"
    },
    {
     "data": {
      "application/vnd.jupyter.widget-view+json": {
       "model_id": "834d109814e54d0ca9ab1752106aa999",
       "version_major": 2,
       "version_minor": 0
      },
      "text/plain": [
       "Epoch 19/40 [Val]:   0%|          | 0/47 [00:00<?, ?it/s]"
      ]
     },
     "metadata": {},
     "output_type": "display_data"
    },
    {
     "name": "stdout",
     "output_type": "stream",
     "text": [
      "E19 [241.5s] | TrL=0.3603 | VL=0.2644 | VLev=0.6530 | VCER=0.0735 | LR=3.0e-04\n",
      "  -> Best model saved: morse_crnn_4layer_norm_aug_v1_best_ep19_lev0.6530.pth\n"
     ]
    },
    {
     "data": {
      "application/vnd.jupyter.widget-view+json": {
       "model_id": "",
       "version_major": 2,
       "version_minor": 0
      },
      "text/plain": [
       "Epoch 20/40 [Train]:   0%|          | 0/211 [00:00<?, ?it/s]"
      ]
     },
     "metadata": {},
     "output_type": "display_data"
    },
    {
     "data": {
      "application/vnd.jupyter.widget-view+json": {
       "model_id": "",
       "version_major": 2,
       "version_minor": 0
      },
      "text/plain": [
       "Epoch 20/40 [Val]:   0%|          | 0/47 [00:00<?, ?it/s]"
      ]
     },
     "metadata": {},
     "output_type": "display_data"
    },
    {
     "name": "stdout",
     "output_type": "stream",
     "text": [
      "E20 [240.6s] | TrL=0.3563 | VL=0.2567 | VLev=0.6200 | VCER=0.0696 | LR=3.0e-04\n",
      "  -> Best model saved: morse_crnn_4layer_norm_aug_v1_best_ep20_lev0.6200.pth\n"
     ]
    },
    {
     "data": {
      "application/vnd.jupyter.widget-view+json": {
       "model_id": "",
       "version_major": 2,
       "version_minor": 0
      },
      "text/plain": [
       "Epoch 21/40 [Train]:   0%|          | 0/211 [00:00<?, ?it/s]"
      ]
     },
     "metadata": {},
     "output_type": "display_data"
    },
    {
     "data": {
      "application/vnd.jupyter.widget-view+json": {
       "model_id": "",
       "version_major": 2,
       "version_minor": 0
      },
      "text/plain": [
       "Epoch 21/40 [Val]:   0%|          | 0/47 [00:00<?, ?it/s]"
      ]
     },
     "metadata": {},
     "output_type": "display_data"
    },
    {
     "name": "stdout",
     "output_type": "stream",
     "text": [
      "E21 [246.1s] | TrL=0.3358 | VL=0.2434 | VLev=0.5907 | VCER=0.0665 | LR=3.0e-04\n",
      "  -> Best model saved: morse_crnn_4layer_norm_aug_v1_best_ep21_lev0.5907.pth\n"
     ]
    },
    {
     "data": {
      "application/vnd.jupyter.widget-view+json": {
       "model_id": "",
       "version_major": 2,
       "version_minor": 0
      },
      "text/plain": [
       "Epoch 22/40 [Train]:   0%|          | 0/211 [00:00<?, ?it/s]"
      ]
     },
     "metadata": {},
     "output_type": "display_data"
    },
    {
     "data": {
      "application/vnd.jupyter.widget-view+json": {
       "model_id": "",
       "version_major": 2,
       "version_minor": 0
      },
      "text/plain": [
       "Epoch 22/40 [Val]:   0%|          | 0/47 [00:00<?, ?it/s]"
      ]
     },
     "metadata": {},
     "output_type": "display_data"
    },
    {
     "name": "stdout",
     "output_type": "stream",
     "text": [
      "E22 [248.0s] | TrL=0.3355 | VL=0.2371 | VLev=0.5840 | VCER=0.0657 | LR=3.0e-04\n",
      "  -> Best model saved: morse_crnn_4layer_norm_aug_v1_best_ep22_lev0.5840.pth\n"
     ]
    },
    {
     "data": {
      "application/vnd.jupyter.widget-view+json": {
       "model_id": "",
       "version_major": 2,
       "version_minor": 0
      },
      "text/plain": [
       "Epoch 23/40 [Train]:   0%|          | 0/211 [00:00<?, ?it/s]"
      ]
     },
     "metadata": {},
     "output_type": "display_data"
    },
    {
     "data": {
      "application/vnd.jupyter.widget-view+json": {
       "model_id": "",
       "version_major": 2,
       "version_minor": 0
      },
      "text/plain": [
       "Epoch 23/40 [Val]:   0%|          | 0/47 [00:00<?, ?it/s]"
      ]
     },
     "metadata": {},
     "output_type": "display_data"
    },
    {
     "name": "stdout",
     "output_type": "stream",
     "text": [
      "E23 [248.7s] | TrL=0.3276 | VL=0.2386 | VLev=0.5953 | VCER=0.0670 | LR=3.0e-04\n"
     ]
    },
    {
     "data": {
      "application/vnd.jupyter.widget-view+json": {
       "model_id": "",
       "version_major": 2,
       "version_minor": 0
      },
      "text/plain": [
       "Epoch 24/40 [Train]:   0%|          | 0/211 [00:00<?, ?it/s]"
      ]
     },
     "metadata": {},
     "output_type": "display_data"
    },
    {
     "data": {
      "application/vnd.jupyter.widget-view+json": {
       "model_id": "",
       "version_major": 2,
       "version_minor": 0
      },
      "text/plain": [
       "Epoch 24/40 [Val]:   0%|          | 0/47 [00:00<?, ?it/s]"
      ]
     },
     "metadata": {},
     "output_type": "display_data"
    },
    {
     "name": "stdout",
     "output_type": "stream",
     "text": [
      "E24 [254.4s] | TrL=0.3246 | VL=0.2776 | VLev=0.6703 | VCER=0.0753 | LR=3.0e-04\n"
     ]
    },
    {
     "data": {
      "application/vnd.jupyter.widget-view+json": {
       "model_id": "",
       "version_major": 2,
       "version_minor": 0
      },
      "text/plain": [
       "Epoch 25/40 [Train]:   0%|          | 0/211 [00:00<?, ?it/s]"
      ]
     },
     "metadata": {},
     "output_type": "display_data"
    },
    {
     "data": {
      "application/vnd.jupyter.widget-view+json": {
       "model_id": "",
       "version_major": 2,
       "version_minor": 0
      },
      "text/plain": [
       "Epoch 25/40 [Val]:   0%|          | 0/47 [00:00<?, ?it/s]"
      ]
     },
     "metadata": {},
     "output_type": "display_data"
    },
    {
     "name": "stdout",
     "output_type": "stream",
     "text": [
      "E25 [251.9s] | TrL=0.3182 | VL=0.2308 | VLev=0.5700 | VCER=0.0641 | LR=3.0e-04\n",
      "  -> Best model saved: morse_crnn_4layer_norm_aug_v1_best_ep25_lev0.5700.pth\n"
     ]
    },
    {
     "data": {
      "application/vnd.jupyter.widget-view+json": {
       "model_id": "",
       "version_major": 2,
       "version_minor": 0
      },
      "text/plain": [
       "Epoch 26/40 [Train]:   0%|          | 0/211 [00:00<?, ?it/s]"
      ]
     },
     "metadata": {},
     "output_type": "display_data"
    },
    {
     "data": {
      "application/vnd.jupyter.widget-view+json": {
       "model_id": "",
       "version_major": 2,
       "version_minor": 0
      },
      "text/plain": [
       "Epoch 26/40 [Val]:   0%|          | 0/47 [00:00<?, ?it/s]"
      ]
     },
     "metadata": {},
     "output_type": "display_data"
    },
    {
     "name": "stdout",
     "output_type": "stream",
     "text": [
      "E26 [249.4s] | TrL=0.3077 | VL=0.2262 | VLev=0.5623 | VCER=0.0631 | LR=3.0e-04\n",
      "  -> Best model saved: morse_crnn_4layer_norm_aug_v1_best_ep26_lev0.5623.pth\n"
     ]
    },
    {
     "data": {
      "application/vnd.jupyter.widget-view+json": {
       "model_id": "",
       "version_major": 2,
       "version_minor": 0
      },
      "text/plain": [
       "Epoch 27/40 [Train]:   0%|          | 0/211 [00:00<?, ?it/s]"
      ]
     },
     "metadata": {},
     "output_type": "display_data"
    },
    {
     "data": {
      "application/vnd.jupyter.widget-view+json": {
       "model_id": "",
       "version_major": 2,
       "version_minor": 0
      },
      "text/plain": [
       "Epoch 27/40 [Val]:   0%|          | 0/47 [00:00<?, ?it/s]"
      ]
     },
     "metadata": {},
     "output_type": "display_data"
    },
    {
     "name": "stdout",
     "output_type": "stream",
     "text": [
      "E27 [250.7s] | TrL=0.3059 | VL=0.2308 | VLev=0.5643 | VCER=0.0635 | LR=3.0e-04\n"
     ]
    },
    {
     "data": {
      "application/vnd.jupyter.widget-view+json": {
       "model_id": "",
       "version_major": 2,
       "version_minor": 0
      },
      "text/plain": [
       "Epoch 28/40 [Train]:   0%|          | 0/211 [00:00<?, ?it/s]"
      ]
     },
     "metadata": {},
     "output_type": "display_data"
    },
    {
     "data": {
      "application/vnd.jupyter.widget-view+json": {
       "model_id": "",
       "version_major": 2,
       "version_minor": 0
      },
      "text/plain": [
       "Epoch 28/40 [Val]:   0%|          | 0/47 [00:00<?, ?it/s]"
      ]
     },
     "metadata": {},
     "output_type": "display_data"
    },
    {
     "name": "stdout",
     "output_type": "stream",
     "text": [
      "E28 [252.0s] | TrL=0.2976 | VL=0.2187 | VLev=0.5320 | VCER=0.0598 | LR=3.0e-04\n",
      "  -> Best model saved: morse_crnn_4layer_norm_aug_v1_best_ep28_lev0.5320.pth\n"
     ]
    },
    {
     "data": {
      "application/vnd.jupyter.widget-view+json": {
       "model_id": "",
       "version_major": 2,
       "version_minor": 0
      },
      "text/plain": [
       "Epoch 29/40 [Train]:   0%|          | 0/211 [00:00<?, ?it/s]"
      ]
     },
     "metadata": {},
     "output_type": "display_data"
    },
    {
     "data": {
      "application/vnd.jupyter.widget-view+json": {
       "model_id": "",
       "version_major": 2,
       "version_minor": 0
      },
      "text/plain": [
       "Epoch 29/40 [Val]:   0%|          | 0/47 [00:00<?, ?it/s]"
      ]
     },
     "metadata": {},
     "output_type": "display_data"
    },
    {
     "name": "stdout",
     "output_type": "stream",
     "text": [
      "E29 [252.0s] | TrL=0.2939 | VL=0.2258 | VLev=0.5537 | VCER=0.0622 | LR=3.0e-04\n"
     ]
    },
    {
     "data": {
      "application/vnd.jupyter.widget-view+json": {
       "model_id": "",
       "version_major": 2,
       "version_minor": 0
      },
      "text/plain": [
       "Epoch 30/40 [Train]:   0%|          | 0/211 [00:00<?, ?it/s]"
      ]
     },
     "metadata": {},
     "output_type": "display_data"
    },
    {
     "data": {
      "application/vnd.jupyter.widget-view+json": {
       "model_id": "",
       "version_major": 2,
       "version_minor": 0
      },
      "text/plain": [
       "Epoch 30/40 [Val]:   0%|          | 0/47 [00:00<?, ?it/s]"
      ]
     },
     "metadata": {},
     "output_type": "display_data"
    },
    {
     "name": "stdout",
     "output_type": "stream",
     "text": [
      "E30 [248.1s] | TrL=0.2857 | VL=0.2260 | VLev=0.5497 | VCER=0.0618 | LR=3.0e-04\n"
     ]
    },
    {
     "data": {
      "application/vnd.jupyter.widget-view+json": {
       "model_id": "",
       "version_major": 2,
       "version_minor": 0
      },
      "text/plain": [
       "Epoch 31/40 [Train]:   0%|          | 0/211 [00:00<?, ?it/s]"
      ]
     },
     "metadata": {},
     "output_type": "display_data"
    },
    {
     "data": {
      "application/vnd.jupyter.widget-view+json": {
       "model_id": "",
       "version_major": 2,
       "version_minor": 0
      },
      "text/plain": [
       "Epoch 31/40 [Val]:   0%|          | 0/47 [00:00<?, ?it/s]"
      ]
     },
     "metadata": {},
     "output_type": "display_data"
    },
    {
     "name": "stdout",
     "output_type": "stream",
     "text": [
      "E31 [245.1s] | TrL=0.2844 | VL=0.2369 | VLev=0.5623 | VCER=0.0632 | LR=3.0e-04\n"
     ]
    },
    {
     "data": {
      "application/vnd.jupyter.widget-view+json": {
       "model_id": "",
       "version_major": 2,
       "version_minor": 0
      },
      "text/plain": [
       "Epoch 32/40 [Train]:   0%|          | 0/211 [00:00<?, ?it/s]"
      ]
     },
     "metadata": {},
     "output_type": "display_data"
    },
    {
     "data": {
      "application/vnd.jupyter.widget-view+json": {
       "model_id": "",
       "version_major": 2,
       "version_minor": 0
      },
      "text/plain": [
       "Epoch 32/40 [Val]:   0%|          | 0/47 [00:00<?, ?it/s]"
      ]
     },
     "metadata": {},
     "output_type": "display_data"
    },
    {
     "name": "stdout",
     "output_type": "stream",
     "text": [
      "E32 [248.6s] | TrL=0.2773 | VL=0.2311 | VLev=0.5713 | VCER=0.0642 | LR=3.0e-04\n"
     ]
    },
    {
     "data": {
      "application/vnd.jupyter.widget-view+json": {
       "model_id": "",
       "version_major": 2,
       "version_minor": 0
      },
      "text/plain": [
       "Epoch 33/40 [Train]:   0%|          | 0/211 [00:00<?, ?it/s]"
      ]
     },
     "metadata": {},
     "output_type": "display_data"
    },
    {
     "data": {
      "application/vnd.jupyter.widget-view+json": {
       "model_id": "",
       "version_major": 2,
       "version_minor": 0
      },
      "text/plain": [
       "Epoch 33/40 [Val]:   0%|          | 0/47 [00:00<?, ?it/s]"
      ]
     },
     "metadata": {},
     "output_type": "display_data"
    },
    {
     "name": "stdout",
     "output_type": "stream",
     "text": [
      "E33 [249.2s] | TrL=0.2730 | VL=0.2205 | VLev=0.5270 | VCER=0.0592 | LR=3.0e-04\n",
      "  -> Best model saved: morse_crnn_4layer_norm_aug_v1_best_ep33_lev0.5270.pth\n"
     ]
    },
    {
     "data": {
      "application/vnd.jupyter.widget-view+json": {
       "model_id": "",
       "version_major": 2,
       "version_minor": 0
      },
      "text/plain": [
       "Epoch 34/40 [Train]:   0%|          | 0/211 [00:00<?, ?it/s]"
      ]
     },
     "metadata": {},
     "output_type": "display_data"
    },
    {
     "data": {
      "application/vnd.jupyter.widget-view+json": {
       "model_id": "",
       "version_major": 2,
       "version_minor": 0
      },
      "text/plain": [
       "Epoch 34/40 [Val]:   0%|          | 0/47 [00:00<?, ?it/s]"
      ]
     },
     "metadata": {},
     "output_type": "display_data"
    },
    {
     "name": "stdout",
     "output_type": "stream",
     "text": [
      "E34 [249.8s] | TrL=0.2685 | VL=0.2197 | VLev=0.5243 | VCER=0.0590 | LR=3.0e-04\n",
      "  -> Best model saved: morse_crnn_4layer_norm_aug_v1_best_ep34_lev0.5243.pth\n"
     ]
    },
    {
     "data": {
      "application/vnd.jupyter.widget-view+json": {
       "model_id": "",
       "version_major": 2,
       "version_minor": 0
      },
      "text/plain": [
       "Epoch 35/40 [Train]:   0%|          | 0/211 [00:00<?, ?it/s]"
      ]
     },
     "metadata": {},
     "output_type": "display_data"
    },
    {
     "data": {
      "application/vnd.jupyter.widget-view+json": {
       "model_id": "",
       "version_major": 2,
       "version_minor": 0
      },
      "text/plain": [
       "Epoch 35/40 [Val]:   0%|          | 0/47 [00:00<?, ?it/s]"
      ]
     },
     "metadata": {},
     "output_type": "display_data"
    },
    {
     "name": "stdout",
     "output_type": "stream",
     "text": [
      "E35 [251.2s] | TrL=0.2566 | VL=0.2183 | VLev=0.5453 | VCER=0.0614 | LR=3.0e-04\n"
     ]
    },
    {
     "data": {
      "application/vnd.jupyter.widget-view+json": {
       "model_id": "",
       "version_major": 2,
       "version_minor": 0
      },
      "text/plain": [
       "Epoch 36/40 [Train]:   0%|          | 0/211 [00:00<?, ?it/s]"
      ]
     },
     "metadata": {},
     "output_type": "display_data"
    },
    {
     "data": {
      "application/vnd.jupyter.widget-view+json": {
       "model_id": "",
       "version_major": 2,
       "version_minor": 0
      },
      "text/plain": [
       "Epoch 36/40 [Val]:   0%|          | 0/47 [00:00<?, ?it/s]"
      ]
     },
     "metadata": {},
     "output_type": "display_data"
    },
    {
     "name": "stdout",
     "output_type": "stream",
     "text": [
      "E36 [245.2s] | TrL=0.2573 | VL=0.2155 | VLev=0.5330 | VCER=0.0599 | LR=3.0e-04\n"
     ]
    },
    {
     "data": {
      "application/vnd.jupyter.widget-view+json": {
       "model_id": "",
       "version_major": 2,
       "version_minor": 0
      },
      "text/plain": [
       "Epoch 37/40 [Train]:   0%|          | 0/211 [00:00<?, ?it/s]"
      ]
     },
     "metadata": {},
     "output_type": "display_data"
    },
    {
     "data": {
      "application/vnd.jupyter.widget-view+json": {
       "model_id": "",
       "version_major": 2,
       "version_minor": 0
      },
      "text/plain": [
       "Epoch 37/40 [Val]:   0%|          | 0/47 [00:00<?, ?it/s]"
      ]
     },
     "metadata": {},
     "output_type": "display_data"
    },
    {
     "name": "stdout",
     "output_type": "stream",
     "text": [
      "E37 [246.7s] | TrL=0.2531 | VL=0.2077 | VLev=0.5057 | VCER=0.0567 | LR=3.0e-04\n",
      "  -> Best model saved: morse_crnn_4layer_norm_aug_v1_best_ep37_lev0.5057.pth\n"
     ]
    },
    {
     "data": {
      "application/vnd.jupyter.widget-view+json": {
       "model_id": "",
       "version_major": 2,
       "version_minor": 0
      },
      "text/plain": [
       "Epoch 38/40 [Train]:   0%|          | 0/211 [00:00<?, ?it/s]"
      ]
     },
     "metadata": {},
     "output_type": "display_data"
    },
    {
     "data": {
      "application/vnd.jupyter.widget-view+json": {
       "model_id": "",
       "version_major": 2,
       "version_minor": 0
      },
      "text/plain": [
       "Epoch 38/40 [Val]:   0%|          | 0/47 [00:00<?, ?it/s]"
      ]
     },
     "metadata": {},
     "output_type": "display_data"
    },
    {
     "name": "stdout",
     "output_type": "stream",
     "text": [
      "E38 [244.7s] | TrL=0.2539 | VL=0.2431 | VLev=0.5973 | VCER=0.0671 | LR=3.0e-04\n"
     ]
    },
    {
     "data": {
      "application/vnd.jupyter.widget-view+json": {
       "model_id": "",
       "version_major": 2,
       "version_minor": 0
      },
      "text/plain": [
       "Epoch 39/40 [Train]:   0%|          | 0/211 [00:00<?, ?it/s]"
      ]
     },
     "metadata": {},
     "output_type": "display_data"
    },
    {
     "data": {
      "application/vnd.jupyter.widget-view+json": {
       "model_id": "",
       "version_major": 2,
       "version_minor": 0
      },
      "text/plain": [
       "Epoch 39/40 [Val]:   0%|          | 0/47 [00:00<?, ?it/s]"
      ]
     },
     "metadata": {},
     "output_type": "display_data"
    },
    {
     "name": "stdout",
     "output_type": "stream",
     "text": [
      "E39 [247.1s] | TrL=0.2440 | VL=0.2103 | VLev=0.5137 | VCER=0.0577 | LR=3.0e-04\n"
     ]
    },
    {
     "data": {
      "application/vnd.jupyter.widget-view+json": {
       "model_id": "",
       "version_major": 2,
       "version_minor": 0
      },
      "text/plain": [
       "Epoch 40/40 [Train]:   0%|          | 0/211 [00:00<?, ?it/s]"
      ]
     },
     "metadata": {},
     "output_type": "display_data"
    },
    {
     "data": {
      "application/vnd.jupyter.widget-view+json": {
       "model_id": "",
       "version_major": 2,
       "version_minor": 0
      },
      "text/plain": [
       "Epoch 40/40 [Val]:   0%|          | 0/47 [00:00<?, ?it/s]"
      ]
     },
     "metadata": {},
     "output_type": "display_data"
    },
    {
     "name": "stdout",
     "output_type": "stream",
     "text": [
      "E40 [247.1s] | TrL=0.2362 | VL=0.2185 | VLev=0.5360 | VCER=0.0600 | LR=3.0e-04\n",
      "\n",
      "--- Training Finished (165.0 min) ---\n",
      "Best Val Levenshtein: 0.5057 at epoch 37\n"
     ]
    }
   ],
   "source": [
    "\n",
    "history = {'train_loss': [], 'val_loss': [], 'val_metric': [], 'val_cer': []}\n",
    "best_val_metric = float('inf')\n",
    "best_epoch = -1\n",
    "\n",
    "# --- Логирование ---\n",
    "if os.path.exists(config[\"LOG_FILE\"]): os.remove(config[\"LOG_FILE\"])\n",
    "log_header = \"Epoch,Train Loss,Val Loss,Val Levenshtein,Val CER,Time(s),LR\\n\"\n",
    "with open(config[\"LOG_FILE\"], \"w\") as f: f.write(log_header)\n",
    "print(log_header.strip())\n",
    "print(f\"\\n--- Старт Обучения ({config['TRAINING']['num_epochs']} эпох на {DEVICE}) ---\")\n",
    "\n",
    "start_time_total = time.time()\n",
    "# --- Основной Цикл ---\n",
    "for epoch in range(config['TRAINING']['num_epochs']):\n",
    "    epoch_start_time = time.time()\n",
    "    # === Фаза Обучения ===\n",
    "    model.train()\n",
    "    train_loss_epoch = 0.0; train_batches = 0\n",
    "    train_iter = tqdm(train_loader, desc=f\"Epoch {epoch+1}/{config['TRAINING']['num_epochs']} [Train]\", leave=False)\n",
    "\n",
    "    for batch_idx, batch in enumerate(train_iter):\n",
    "        try:\n",
    "            if not isinstance(batch, (tuple, list)) or len(batch) != 4 or batch[0].numel() == 0:\n",
    "                # print(f\"Пропуск некорректного батча (Train): {type(batch)}, len={len(batch) if isinstance(batch, (tuple, list)) else 'N/A'}\")\n",
    "                continue\n",
    "            spec_batch, spec_len_batch, target_batch, target_len_batch = batch\n",
    "            spec_batch, target_batch, target_len_batch = spec_batch.to(DEVICE), target_batch.to(DEVICE), target_len_batch.to(DEVICE)\n",
    "\n",
    "            optimizer.zero_grad()\n",
    "            # input_lengths должны быть на CPU для .div в _calculate_output_lengths, но модель ожидает их на DEVICE? Проверим\n",
    "            log_probs, output_lengths = model(spec_batch, spec_len_batch.to(DEVICE)) # Передаем длины на device\n",
    "\n",
    "            # Убедимся что output_lengths не превышает T' log_probs\n",
    "            output_lengths = torch.clamp(output_lengths, max=log_probs.shape[0])\n",
    "\n",
    "            loss = criterion(log_probs, target_batch, output_lengths.cpu(), target_len_batch.cpu())\n",
    "\n",
    "            # Проверка на NaN/inf\n",
    "            if torch.isnan(loss) or torch.isinf(loss):\n",
    "                 print(f\"\\nПредупреждение: NaN/inf loss на трейне (эпоха {epoch+1}, батч {batch_idx}). Пропуск батча.\")\n",
    "                 continue\n",
    "\n",
    "            loss.backward()\n",
    "            # Ограничение градиента\n",
    "            if config['TRAINING']['grad_clip_value'] > 0:\n",
    "                torch.nn.utils.clip_grad_norm_(model.parameters(), config['TRAINING']['grad_clip_value'])\n",
    "            optimizer.step()\n",
    "\n",
    "            train_loss_epoch += loss.item(); train_batches += 1\n",
    "            if batch_idx % 20 == 0:\n",
    "                train_iter.set_postfix(loss=f\"{train_loss_epoch / train_batches:.4f}\")\n",
    "\n",
    "        except Exception as e:\n",
    "            print(f\"\\nОшибка обучения (эпоха {epoch+1}, батч {batch_idx}): {e}\")\n",
    "            traceback.print_exc()\n",
    "            continue # Пропускаем ошибочный батч\n",
    "\n",
    "    avg_train_loss = train_loss_epoch / train_batches if train_batches > 0 else float('nan')\n",
    "\n",
    "    # === Фаза Валидации ===\n",
    "    model.eval()\n",
    "    val_loss_epoch = 0.0; val_batches = 0\n",
    "    all_val_preds, all_val_targets = [], []\n",
    "    val_iter = tqdm(val_loader, desc=f\"Epoch {epoch+1}/{config['TRAINING']['num_epochs']} [Val]\", leave=False)\n",
    "\n",
    "    with torch.no_grad():\n",
    "        for batch_idx, batch in enumerate(val_iter):\n",
    "            try:\n",
    "                if not isinstance(batch, (tuple, list)) or len(batch) != 4 or batch[0].numel() == 0:\n",
    "                     # print(f\"Пропуск некорректного батча (Val): {type(batch)}, len={len(batch) if isinstance(batch, (tuple, list)) else 'N/A'}\")\n",
    "                     continue\n",
    "                spec_batch, spec_len_batch, target_batch, target_len_batch = batch\n",
    "                spec_batch, target_batch, target_len_batch = spec_batch.to(DEVICE), target_batch.to(DEVICE), target_len_batch.to(DEVICE)\n",
    "\n",
    "                log_probs, output_lengths = model(spec_batch, spec_len_batch.to(DEVICE))\n",
    "                output_lengths = torch.clamp(output_lengths, max=log_probs.shape[0])\n",
    "\n",
    "                loss = criterion(log_probs, target_batch, output_lengths.cpu(), target_len_batch.cpu())\n",
    "\n",
    "                if not torch.isnan(loss) and not torch.isinf(loss):\n",
    "                    val_loss_epoch += loss.item(); val_batches += 1\n",
    "\n",
    "                # Декодирование Greedy для метрик (быстрее для валидации)\n",
    "                batch_preds = decode_predictions(log_probs, int_to_char, blank_index)\n",
    "                batch_targets = decode_targets(target_batch, target_len_batch, int_to_char)\n",
    "                all_val_preds.extend(batch_preds); all_val_targets.extend(batch_targets)\n",
    "\n",
    "            except Exception as e:\n",
    "                 print(f\"\\nОшибка валидации (эпоха {epoch+1}, батч {batch_idx}): {e}\")\n",
    "                 traceback.print_exc()\n",
    "                 continue\n",
    "\n",
    "    avg_val_loss = val_loss_epoch / val_batches if val_batches > 0 else float('nan')\n",
    "    val_levenshtein = calculate_levenshtein_mean(all_val_preds, all_val_targets)\n",
    "    val_cer = calculate_cer(all_val_preds, all_val_targets)\n",
    "    history['train_loss'].append(avg_train_loss)\n",
    "    history['val_loss'].append(avg_val_loss)\n",
    "    history['val_metric'].append(val_levenshtein)\n",
    "    history['val_cer'].append(val_cer)\n",
    "\n",
    "    epoch_time = time.time() - epoch_start_time\n",
    "    current_lr = optimizer.param_groups[0]['lr']\n",
    "\n",
    "    # --- Логирование ---\n",
    "    log_str = f\"E{epoch+1:02d} [{epoch_time:.1f}s] | TrL={avg_train_loss:.4f} | VL={avg_val_loss:.4f} | VLev={val_levenshtein:.4f} | VCER={val_cer:.4f} | LR={current_lr:.1e}\"\n",
    "    print(log_str)\n",
    "    with open(config[\"LOG_FILE\"], \"a\") as f:\n",
    "        f.write(f\"{epoch+1},{avg_train_loss:.4f},{avg_val_loss:.4f},{val_levenshtein:.4f},{val_cer:.4f},{epoch_time:.1f},{current_lr:.1e}\\n\")\n",
    "\n",
    "    # --- Шаг Планировщика ---\n",
    "    if scheduler:\n",
    "      if isinstance(scheduler, ReduceLROnPlateau):\n",
    "          scheduler.step(val_levenshtein) # Используем Levenshtein для ReduceLROnPlateau\n",
    "      elif isinstance(scheduler, CosineAnnealingLR):\n",
    "          scheduler.step()\n",
    "\n",
    "    # --- Сохранение лучшей модели ---\n",
    "    if val_levenshtein < best_val_metric:\n",
    "        best_val_metric = val_levenshtein\n",
    "        best_epoch = epoch + 1\n",
    "        checkpoint_path = os.path.join(config[\"CHECKPOINT_DIR\"], f\"{config['MODEL_NAME']}_best_ep{best_epoch}_lev{val_levenshtein:.4f}.pth\")\n",
    "        try:\n",
    "            # Сохраняем конфиг вместе с моделью\n",
    "            save_dict = {\n",
    "                'epoch': best_epoch,\n",
    "                'model_state_dict': model.state_dict(),\n",
    "                'optimizer_state_dict': optimizer.state_dict(),\n",
    "                'scheduler_state_dict': scheduler.state_dict() if scheduler else None,\n",
    "                'val_metric': best_val_metric,\n",
    "                'char_to_int': char_to_int,\n",
    "                'int_to_char': int_to_char,\n",
    "                'blank_index': blank_index,\n",
    "                'config': config # Сохраняем весь конфиг\n",
    "            }\n",
    "            torch.save(save_dict, checkpoint_path)\n",
    "            print(f\"  -> Best model saved: {os.path.basename(checkpoint_path)}\")\n",
    "        except Exception as e: print(f\"Ошибка сохранения чекпоинта: {e}\")\n",
    "\n",
    "# --- Завершение ---\n",
    "total_training_time = time.time() - start_time_total\n",
    "print(f\"\\n--- Training Finished ({total_training_time/60:.1f} min) ---\")\n",
    "if best_epoch != -1: print(f\"Best Val Levenshtein: {best_val_metric:.4f} at epoch {best_epoch}\")\n",
    "else: print(\"Модель не сохранялась.\"); print(f\"Logs: {config['LOG_FILE']}\"); print(f\"Checkpoints: {config['CHECKPOINT_DIR']}\")\n",
    "\n",
    "\n",
    "\n"
   ]
  },
  {
   "cell_type": "markdown",
   "metadata": {},
   "source": [
    "# Ячейка 12: Анализ Результатов Обучения (Кривые, CER, Confusion Matrix)"
   ]
  },
  {
   "cell_type": "code",
   "execution_count": 14,
   "metadata": {
    "execution": {
     "iopub.execute_input": "2025-04-19T17:20:09.404465Z",
     "iopub.status.busy": "2025-04-19T17:20:09.403709Z",
     "iopub.status.idle": "2025-04-19T17:20:31.680630Z",
     "shell.execute_reply": "2025-04-19T17:20:31.679889Z",
     "shell.execute_reply.started": "2025-04-19T17:20:09.404433Z"
    },
    "trusted": true
   },
   "outputs": [
    {
     "name": "stdout",
     "output_type": "stream",
     "text": [
      "\n",
      "--- Анализ Результатов Обучения ---\n"
     ]
    },
    {
     "data": {
      "image/png": "[encoded data removed]",
      "text/plain": [
       "<Figure size 1400x500 with 3 Axes>"
      ]
     },
     "metadata": {},
     "output_type": "display_data"
    },
    {
     "name": "stdout",
     "output_type": "stream",
     "text": [
      "\n",
      "Загрузка лучшей модели для анализа: morse_crnn_4layer_norm_aug_v1_best_ep37_lev0.5057.pth\n",
      "Модель CRNNModel_4Layer: Выход CNN для RNN = 2048 признаков (C=128, F'=16)\n",
      "Модель CRNNModel_4Layer: Фактор сокращения времени CNN = 16x\n",
      "Лучшая модель загружена.\n",
      "\n",
      "Расчет финальных метрик и Confusion Matrix на валидационной выборке...\n"
     ]
    },
    {
     "name": "stderr",
     "output_type": "stream",
     "text": [
      "/tmp/ipykernel_31/2581840166.py:60: FutureWarning: You are using `torch.load` with `weights_only=False` (the current default value), which uses the default pickle module implicitly. It is possible to construct malicious pickle data which will execute arbitrary code during unpickling (See https://github.com/pytorch/pytorch/blob/main/SECURITY.md#untrusted-models for more details). In a future release, the default value for `weights_only` will be flipped to `True`. This limits the functions that could be executed during unpickling. Arbitrary objects will no longer be allowed to be loaded via this mode unless they are explicitly allowlisted by the user via `torch.serialization.add_safe_globals`. We recommend you start setting `weights_only=True` for any use case where you don't have full control of the loaded file. Please open an issue on GitHub for any issues related to this experimental feature.\n",
      "  checkpoint = torch.load(best_checkpoint_path, map_location=DEVICE)\n"
     ]
    },
    {
     "data": {
      "application/vnd.jupyter.widget-view+json": {
       "model_id": "",
       "version_major": 2,
       "version_minor": 0
      },
      "text/plain": [
       "Final Validation:   0%|          | 0/47 [00:00<?, ?it/s]"
      ]
     },
     "metadata": {},
     "output_type": "display_data"
    },
    {
     "name": "stdout",
     "output_type": "stream",
     "text": [
      "\n",
      "Финальные метрики на Validation Set (Best Model, Greedy Decode):\n",
      "  - Levenshtein Distance: 0.5057\n",
      "  - Character Error Rate (CER): 0.0567\n",
      "Ошибка построения Confusion Matrix: Found input variables with inconsistent numbers of samples: [26733, 26503]\n"
     ]
    }
   ],
   "source": [
    "print(\"\\n--- Анализ Результатов Обучения ---\")\n",
    "\n",
    "# --- Графики Loss и Метрик ---\n",
    "if history['train_loss']:\n",
    "    epochs_range = range(1, len(history['train_loss']) + 1)\n",
    "    plt.figure(figsize=(14, 5))\n",
    "\n",
    "    plt.subplot(1, 3, 1)\n",
    "    plt.plot(epochs_range, history['train_loss'], label='Train Loss')\n",
    "    plt.plot(epochs_range, history['val_loss'], label='Validation Loss')\n",
    "    plt.legend(loc='upper right')\n",
    "    plt.title('Training and Validation Loss')\n",
    "    plt.xlabel('Epoch')\n",
    "    plt.ylabel('Loss')\n",
    "    plt.grid(True)\n",
    "\n",
    "    plt.subplot(1, 3, 2)\n",
    "    plt.plot(epochs_range, history['val_metric'], label='Validation Levenshtein')\n",
    "    plt.legend(loc='upper right')\n",
    "    plt.title('Validation Levenshtein Distance')\n",
    "    plt.xlabel('Epoch')\n",
    "    plt.ylabel('Levenshtein')\n",
    "    plt.grid(True)\n",
    "\n",
    "    plt.subplot(1, 3, 3)\n",
    "    plt.plot(epochs_range, history['val_cer'], label='Validation CER')\n",
    "    plt.legend(loc='upper right')\n",
    "    plt.title('Validation Character Error Rate (CER)')\n",
    "    plt.xlabel('Epoch')\n",
    "    plt.ylabel('CER')\n",
    "    plt.grid(True)\n",
    "\n",
    "    plt.tight_layout()\n",
    "    plt.show()\n",
    "else:\n",
    "    print(\"Нет данных истории для построения графиков.\")\n",
    "\n",
    "# --- Загрузка лучшей модели и расчет финальных метрик на Val ---\n",
    "best_model = None\n",
    "best_checkpoint_path = None\n",
    "if best_epoch != -1:\n",
    "     try:\n",
    "        # Ищем чекпоинт с лучшей метрикой\n",
    "        checkpoints = [f for f in os.listdir(config[\"CHECKPOINT_DIR\"]) if f.startswith(config['MODEL_NAME']) and f.endswith(\".pth\")]\n",
    "        best_filename = f\"{config['MODEL_NAME']}_best_ep{best_epoch}_lev{best_val_metric:.4f}.pth\"\n",
    "        if best_filename in checkpoints:\n",
    "            best_checkpoint_path = os.path.join(config[\"CHECKPOINT_DIR\"], best_filename)\n",
    "        else: # Если имя файла немного отличается из-за округления\n",
    "            best_metric_found = float('inf')\n",
    "            for fname in checkpoints:\n",
    "                 try:\n",
    "                     metric_val = float(fname.split('_lev')[-1].replace('.pth',''))\n",
    "                     if abs(metric_val - best_val_metric) < 1e-5: # Ищем очень близкое значение\n",
    "                          best_checkpoint_path = os.path.join(config[\"CHECKPOINT_DIR\"], fname)\n",
    "                          break\n",
    "                 except: continue\n",
    "\n",
    "        if best_checkpoint_path and os.path.exists(best_checkpoint_path):\n",
    "            print(f\"\\nЗагрузка лучшей модели для анализа: {os.path.basename(best_checkpoint_path)}\")\n",
    "            checkpoint = torch.load(best_checkpoint_path, map_location=DEVICE)\n",
    "            # Загружаем конфиг из чекпоинта, чтобы создать модель с теми же параметрами\n",
    "            loaded_config = checkpoint['config']\n",
    "            # Важно: используем параметры из ЗАГРУЖЕННОГО конфига\n",
    "            if loaded_config['MODEL']['type'] == 'CRNNModel_4Layer':\n",
    "                best_model = CRNNModel_4Layer(\n",
    "                    n_features=loaded_config['AUDIO']['n_mels'], num_classes=len(checkpoint['char_to_int']),\n",
    "                    rnn_hidden_size=loaded_config['MODEL']['rnn_hidden_size'], num_rnn_layers=loaded_config['MODEL']['rnn_num_layers'],\n",
    "                    cnn_dropout=0.0, rnn_dropout=0.0 # Dropout в eval обычно отключают\n",
    "                ).to(DEVICE)\n",
    "            else: raise ValueError(\"Неизвестный тип модели в чекпоинте\")\n",
    "\n",
    "            best_model.load_state_dict(checkpoint['model_state_dict'])\n",
    "            best_model.eval()\n",
    "            print(\"Лучшая модель загружена.\")\n",
    "        else: print(\"Не удалось найти файл лучшего чекпоинта.\")\n",
    "\n",
    "     except Exception as e: print(f\"Ошибка загрузки лучшей модели: {e}\")\n",
    "else:\n",
    "    print(\"Лучшая модель не сохранялась во время обучения.\")\n",
    "\n",
    "\n",
    "# --- Расчет CER и Confusion Matrix на Validation Set ---\n",
    "if best_model:\n",
    "    print(\"\\nРасчет финальных метрик и Confusion Matrix на валидационной выборке...\")\n",
    "    all_val_preds_final, all_val_targets_final = [], []\n",
    "    val_iter_final = tqdm(val_loader, desc=\"Final Validation\", leave=False)\n",
    "    with torch.no_grad():\n",
    "        for batch in val_iter_final:\n",
    "            try:\n",
    "                if not isinstance(batch, (tuple, list)) or len(batch) != 4 or batch[0].numel() == 0: continue\n",
    "                spec_batch, spec_len_batch, target_batch, target_len_batch = batch\n",
    "                spec_batch = spec_batch.to(DEVICE)\n",
    "\n",
    "                log_probs, output_lengths = best_model(spec_batch, spec_len_batch.to(DEVICE))\n",
    "                output_lengths = torch.clamp(output_lengths, max=log_probs.shape[0])\n",
    "\n",
    "                # Используем Greedy декодирование для этого анализа\n",
    "                batch_preds = decode_predictions(log_probs, int_to_char, blank_index)\n",
    "                batch_targets = decode_targets(target_batch, target_len_batch, int_to_char)\n",
    "                all_val_preds_final.extend(batch_preds)\n",
    "                all_val_targets_final.extend(batch_targets)\n",
    "            except Exception as e: print(f\"Ошибка финальной валидации: {e}\"); continue\n",
    "\n",
    "    if all_val_targets_final:\n",
    "        final_lev = calculate_levenshtein_mean(all_val_preds_final, all_val_targets_final)\n",
    "        final_cer = calculate_cer(all_val_preds_final, all_val_targets_final)\n",
    "        print(f\"\\nФинальные метрики на Validation Set (Best Model, Greedy Decode):\")\n",
    "        print(f\"  - Levenshtein Distance: {final_lev:.4f}\")\n",
    "        print(f\"  - Character Error Rate (CER): {final_cer:.4f}\")\n",
    "\n",
    "        # --- Confusion Matrix ---\n",
    "        try:\n",
    "            # Собираем все символы из предсказаний и таргетов для матрицы\n",
    "            pred_chars = \"\".join(all_val_preds_final)\n",
    "            target_chars = \"\".join(all_val_targets_final)\n",
    "            # Ограничим длину для производительности, если нужно\n",
    "            max_len_cm = 50000\n",
    "            if len(target_chars) > max_len_cm:\n",
    "                 indices = np.random.choice(len(target_chars), max_len_cm, replace=False)\n",
    "                 pred_chars = \"\".join(np.array(list(pred_chars))[indices])\n",
    "                 target_chars = \"\".join(np.array(list(target_chars))[indices])\n",
    "                 print(f\"(Матрица ошибок построена на {max_len_cm} случайных символах)\")\n",
    "\n",
    "\n",
    "            # Уникальные символы (включая те, что могли быть в таргете, но не в предсказании, и наоборот)\n",
    "            labels = sorted(list(set(pred_chars) | set(target_chars)))\n",
    "            if not labels: raise ValueError(\"Нет символов для матрицы ошибок\")\n",
    "\n",
    "            cm = confusion_matrix(list(target_chars), list(pred_chars), labels=labels)\n",
    "            cm_df = pd.DataFrame(cm, index=labels, columns=labels)\n",
    "\n",
    "            plt.figure(figsize=(12, 10))\n",
    "            sns.heatmap(cm_df, annot=True, fmt='d', cmap='Blues')\n",
    "            plt.title('Confusion Matrix - Validation Set (Best Model)')\n",
    "            plt.ylabel('Actual Characters')\n",
    "            plt.xlabel('Predicted Characters')\n",
    "            plt.show()\n",
    "\n",
    "            # Вывод часто ошибаемых пар (опционально)\n",
    "            errors = []\n",
    "            for i, label_true in enumerate(labels):\n",
    "                for j, label_pred in enumerate(labels):\n",
    "                    if i != j and cm[i, j] > 0:\n",
    "                        errors.append(((label_true, label_pred), cm[i, j]))\n",
    "            if errors:\n",
    "                 errors.sort(key=lambda item: item[1], reverse=True)\n",
    "                 print(\"\\nНаиболее частые ошибки (True -> Pred):\")\n",
    "                 for pair, count in errors[:15]: # Показать топ 15\n",
    "                      print(f\"  '{pair[0]}' -> '{pair[1]}': {count}\")\n",
    "\n",
    "        except Exception as e: print(f\"Ошибка построения Confusion Matrix: {e}\")\n",
    "    else:\n",
    "         print(\"Не удалось получить предсказания/таргеты для финального анализа.\")\n",
    "else:\n",
    "    print(\"Анализ невозможен, так как лучшая модель не была загружена.\")"
   ]
  },
  {
   "cell_type": "markdown",
   "metadata": {},
   "source": [
    "### Ячейка 13: Инференс на Тестовой Выборке"
   ]
  },
  {
   "cell_type": "code",
   "execution_count": 15,
   "metadata": {
    "execution": {
     "iopub.execute_input": "2025-04-19T17:20:31.681843Z",
     "iopub.status.busy": "2025-04-19T17:20:31.681546Z",
     "iopub.status.idle": "2025-04-19T17:23:06.554611Z",
     "shell.execute_reply": "2025-04-19T17:23:06.553795Z",
     "shell.execute_reply.started": "2025-04-19T17:20:31.681820Z"
    },
    "trusted": true
   },
   "outputs": [
    {
     "name": "stdout",
     "output_type": "stream",
     "text": [
      "\n",
      "--- Инференс на Тестовой Выборке ---\n",
      "Используем лучший чекпоинт: morse_crnn_4layer_norm_aug_v1_best_ep37_lev0.5057.pth (Val Lev: 0.5057)\n",
      "Модель CRNNModel_4Layer: Выход CNN для RNN = 2048 признаков (C=128, F'=16)\n",
      "Модель CRNNModel_4Layer: Фактор сокращения времени CNN = 16x\n",
      "Модель для инференса загружена.\n",
      "Тестовый лоадер создан (5000 сэмплов).\n",
      "CTCDecoder (Beam Size: 15, LM: No) создан.\n",
      "\n",
      "--- Запуск инференса (Beam Search) ---\n"
     ]
    },
    {
     "name": "stderr",
     "output_type": "stream",
     "text": [
      "/tmp/ipykernel_31/3091761441.py:19: FutureWarning: You are using `torch.load` with `weights_only=False` (the current default value), which uses the default pickle module implicitly. It is possible to construct malicious pickle data which will execute arbitrary code during unpickling (See https://github.com/pytorch/pytorch/blob/main/SECURITY.md#untrusted-models for more details). In a future release, the default value for `weights_only` will be flipped to `True`. This limits the functions that could be executed during unpickling. Arbitrary objects will no longer be allowed to be loaded via this mode unless they are explicitly allowlisted by the user via `torch.serialization.add_safe_globals`. We recommend you start setting `weights_only=True` for any use case where you don't have full control of the loaded file. Please open an issue on GitHub for any issues related to this experimental feature.\n",
      "  checkpoint_inf = torch.load(best_checkpoint_path_inf, map_location=DEVICE)\n"
     ]
    },
    {
     "data": {
      "application/vnd.jupyter.widget-view+json": {
       "model_id": "35de8c5a16124f5bb1723961e6801fe5",
       "version_major": 2,
       "version_minor": 0
      },
      "text/plain": [
       "Inference (Beam Search):   0%|          | 0/79 [00:00<?, ?it/s]"
      ]
     },
     "metadata": {},
     "output_type": "display_data"
    },
    {
     "name": "stdout",
     "output_type": "stream",
     "text": [
      "Инференс завершен за 154.7 сек. Предсказаний: 5000\n"
     ]
    }
   ],
   "source": [
    "print(\"\\n--- Инференс на Тестовой Выборке ---\")\n",
    "inference_model = None; test_loader_inf = None; decoder_bs = None\n",
    "int_to_char_inf = None; blank_index_inf = -1\n",
    "loaded_config_inf = None # Хранит конфиг загруженного чекпоинта\n",
    "\n",
    "try:\n",
    "    # --- 1. Поиск и Загрузка лучшей модели ---\n",
    "    if not os.path.isdir(config[\"CHECKPOINT_DIR\"]): raise FileNotFoundError(f\"Папка {config['CHECKPOINT_DIR']} не найдена\")\n",
    "    inf_checkpoints = []\n",
    "    for filename in os.listdir(config[\"CHECKPOINT_DIR\"]):\n",
    "        if filename.startswith(config['MODEL_NAME']) and filename.endswith(\".pth\") and '_lev' in filename:\n",
    "            try: inf_checkpoints.append((float(filename.split('_lev')[-1].replace('.pth','')), filename))\n",
    "            except: continue\n",
    "    if not inf_checkpoints: raise FileNotFoundError(f\"Чекпоинты не найдены в {config['CHECKPOINT_DIR']} для {config['MODEL_NAME']}\")\n",
    "\n",
    "    inf_checkpoints.sort(); best_metric_inf, best_filename_inf = inf_checkpoints[0]\n",
    "    best_checkpoint_path_inf = os.path.join(config[\"CHECKPOINT_DIR\"], best_filename_inf)\n",
    "    print(f\"Используем лучший чекпоинт: {best_filename_inf} (Val Lev: {best_metric_inf:.4f})\")\n",
    "    checkpoint_inf = torch.load(best_checkpoint_path_inf, map_location=DEVICE)\n",
    "\n",
    "    # --- Загрузка конфигурации из чекпоинта ---\n",
    "    if 'config' not in checkpoint_inf: raise ValueError(\"Конфигурация не найдена в чекпоинте!\")\n",
    "    loaded_config_inf = checkpoint_inf['config']\n",
    "    char_to_int_inf = checkpoint_inf['char_to_int']; int_to_char_inf = checkpoint_inf['int_to_char']\n",
    "    blank_index_inf = checkpoint_inf['blank_index']\n",
    "    NUM_CLASSES_INF = len(char_to_int_inf)\n",
    "\n",
    "    # --- Пересоздание модели с ЗАГРУЖЕННЫМИ параметрами ---\n",
    "    model_cfg_inf = loaded_config_inf['MODEL']\n",
    "    audio_cfg_inf = loaded_config_inf['AUDIO']\n",
    "    n_features_inf = audio_cfg_inf['n_mels']\n",
    "\n",
    "    if model_cfg_inf['type'] == 'CRNNModel_4Layer':\n",
    "         inference_model = CRNNModel_4Layer(\n",
    "            n_features=n_features_inf, num_classes=NUM_CLASSES_INF,\n",
    "            rnn_hidden_size=model_cfg_inf['rnn_hidden_size'], num_rnn_layers=model_cfg_inf['rnn_num_layers'],\n",
    "            cnn_dropout=0.0, rnn_dropout=0.0 # Отключаем dropout для инференса\n",
    "        ).to(DEVICE)\n",
    "    else: raise ValueError(f\"Неизвестный тип модели в конфиге чекпоинта: {model_cfg_inf['type']}\")\n",
    "\n",
    "    inference_model.load_state_dict(checkpoint_inf['model_state_dict'])\n",
    "    inference_model.eval()\n",
    "    print(\"Модель для инференса загружена.\")\n",
    "\n",
    "    # --- 2. Создание Тестового Лоадера (с ПРЕДОБРАБОТКОЙ из конфига чекпоинта!) ---\n",
    "    test_df = pd.read_csv(config[\"TEST_CSV_PATH\"])\n",
    "    test_dataset_inf = MorseDataset(\n",
    "        data_frame=test_df, audio_base_path=config[\"AUDIO_BASE_PATH\"], char_map=None, # char_map=None для теста\n",
    "        file_path_column=config[\"FILE_PATH_COLUMN\"], target_column=\"__IGNORE__\",\n",
    "        audio_cfg=loaded_config_inf[\"AUDIO\"], # Используем аудио конфиг из чекпоинта\n",
    "        preproc_cfg=loaded_config_inf[\"PREPROCESSING\"], # Используем препроцессинг из чекпоинта\n",
    "        aug_cfg=None, # НИКАКИХ АУГМЕНТАЦИЙ на тесте\n",
    "        is_train=False\n",
    "    )\n",
    "    test_loader_inf = DataLoader(test_dataset_inf, batch_size=config['INFERENCE']['batch_size'], shuffle=False,\n",
    "                             collate_fn=collate_fn_test, num_workers=0) # num_workers=0 может быть стабильнее для инференса\n",
    "    print(f\"Тестовый лоадер создан ({len(test_dataset_inf)} сэмплов).\")\n",
    "\n",
    "    # --- 3. Настройка Beam Search Декодера (Опционально) ---\n",
    "    use_beam_search_inf = config['INFERENCE']['use_beam_search'] and TORCHAUDIO_CTC_DECODER_AVAILABLE and ctc_decoder\n",
    "    if use_beam_search_inf:\n",
    "        try:\n",
    "            labels_inf = [int_to_char_inf[i] for i in range(NUM_CLASSES_INF)]\n",
    "            decoder_bs = ctc_decoder(\n",
    "                lexicon=config['INFERENCE'].get('beam_search_lexicon_path'), # None если не указан\n",
    "                tokens=labels_inf,\n",
    "                lm=config['INFERENCE'].get('beam_search_lm_path'),           # None если не указан\n",
    "                nbest=1,\n",
    "                beam_size=config['INFERENCE']['beam_search_beam_size'],\n",
    "                blank_token=BLANK_CHAR,\n",
    "                sil_token=BLANK_CHAR, # Используем бланк как тишину\n",
    "                unk_word=BLANK_CHAR   # Используем бланк как неизвестное слово\n",
    "            )\n",
    "            print(f\"CTCDecoder (Beam Size: {config['INFERENCE']['beam_search_beam_size']}, LM: {'Yes' if config['INFERENCE']['beam_search_lm_path'] else 'No'}) создан.\")\n",
    "        except Exception as e:\n",
    "            print(f\"Ошибка создания CTCDecoder: {e}. Используем Greedy.\")\n",
    "            decoder_bs = None # Откат на Greedy\n",
    "    else:\n",
    "        print(\"Beam Search недоступен или отключен. Используем Greedy.\")\n",
    "\n",
    "except Exception as e: print(f\"Ошибка подготовки инференса: {e}\"); traceback.print_exc()\n",
    "\n",
    "# --- 4. Запуск Инференса ---\n",
    "submission_results = []\n",
    "if inference_model and test_loader_inf and int_to_char_inf:\n",
    "    print(f\"\\n--- Запуск инференса ({'Beam Search' if decoder_bs else 'Greedy'}) ---\")\n",
    "    inference_start_time = time.time(); inference_model.eval()\n",
    "    test_iter = tqdm(test_loader_inf, desc=f\"Inference ({'Beam Search' if decoder_bs else 'Greedy'})\")\n",
    "\n",
    "    with torch.no_grad():\n",
    "        for batch_idx, batch in enumerate(test_iter):\n",
    "            if not isinstance(batch, (tuple, list)) or len(batch) != 3 or batch[0].numel() == 0: continue\n",
    "            spec_batch, spec_len_batch, ids_batch = batch\n",
    "            spec_batch = spec_batch.to(DEVICE)\n",
    "            try:\n",
    "                log_probs, output_lengths = inference_model(spec_batch, spec_len_batch.to(DEVICE))\n",
    "                output_lengths = torch.clamp(output_lengths, max=log_probs.shape[0])\n",
    "                batch_preds = []\n",
    "\n",
    "                if decoder_bs: # Beam Search\n",
    "                    emissions_p = log_probs.permute(1, 0, 2).contiguous().cpu() # Decoder ожидает [B, T, C]\n",
    "                    lengths_c = output_lengths.cpu() # Decoder ожидает длины на CPU\n",
    "                    # Запускаем декодер\n",
    "                    hypotheses = decoder_bs(emissions_p, lengths_c)\n",
    "                    # Обрабатываем результат\n",
    "                    for hyps in hypotheses:\n",
    "                        if hyps:\n",
    "                            # Приводим токены к строке\n",
    "                            pred_str = \"\".join([int_to_char_inf.get(idx, '?') for idx in hyps[0].tokens.tolist()])\n",
    "                            batch_preds.append(pred_str)\n",
    "                        else:\n",
    "                             batch_preds.append(\"\") # Если декодер ничего не вернул\n",
    "                else: # Greedy\n",
    "                    batch_preds = decode_predictions(log_probs, int_to_char_inf, blank_index_inf)\n",
    "\n",
    "                # Сохраняем результаты батча\n",
    "                for test_id, pred in zip(ids_batch, batch_preds):\n",
    "                     submission_results.append({'id': str(test_id), 'message': pred})\n",
    "\n",
    "            except Exception as e:\n",
    "                print(f\"\\nОшибка инференса батч {batch_idx}: {e}\")\n",
    "                # traceback.print_exc() # Можно раскомментировать для детальной отладки\n",
    "                for test_id in ids_batch: submission_results.append({'id': str(test_id), 'message': '[INFERENCE_ERROR]'})\n",
    "                continue # Продолжаем со следующим батчем\n",
    "\n",
    "    inference_time = time.time() - inference_start_time\n",
    "    print(f\"Инференс завершен за {inference_time:.1f} сек. Предсказаний: {len(submission_results)}\")\n",
    "else: print(\"Инференс не выполнен (ошибка подготовки).\")"
   ]
  },
  {
   "cell_type": "markdown",
   "metadata": {},
   "source": [
    "### Ячейка 14: Создание Файла Submission"
   ]
  },
  {
   "cell_type": "code",
   "execution_count": 16,
   "metadata": {
    "execution": {
     "iopub.execute_input": "2025-04-19T17:23:06.555753Z",
     "iopub.status.busy": "2025-04-19T17:23:06.555414Z",
     "iopub.status.idle": "2025-04-19T17:23:06.613001Z",
     "shell.execute_reply": "2025-04-19T17:23:06.612424Z",
     "shell.execute_reply.started": "2025-04-19T17:23:06.555735Z"
    },
    "trusted": true
   },
   "outputs": [
    {
     "name": "stdout",
     "output_type": "stream",
     "text": [
      "Получено 5000 предсказаний.\n",
      "Загружен sample: /kaggle/input/morse-dataset/data/sample_submission.csv\n",
      "Размер совпадает с sample_submission.\n",
      "\n",
      "Файл submission сохранен: /kaggle/working/submission_morse_crnn_4layer_norm_aug_v1.csv\n"
     ]
    },
    {
     "data": {
      "text/html": [
       "<div>\n",
       "<style scoped>\n",
       "    .dataframe tbody tr th:only-of-type {\n",
       "        vertical-align: middle;\n",
       "    }\n",
       "\n",
       "    .dataframe tbody tr th {\n",
       "        vertical-align: top;\n",
       "    }\n",
       "\n",
       "    .dataframe thead th {\n",
       "        text-align: right;\n",
       "    }\n",
       "</style>\n",
       "<table border=\"1\" class=\"dataframe\">\n",
       "  <thead>\n",
       "    <tr style=\"text-align: right;\">\n",
       "      <th></th>\n",
       "      <th>id</th>\n",
       "      <th>message</th>\n",
       "    </tr>\n",
       "  </thead>\n",
       "  <tbody>\n",
       "    <tr>\n",
       "      <th>0</th>\n",
       "      <td>30001.opus</td>\n",
       "      <td>ЯЮ6ЛИТЖБШ</td>\n",
       "    </tr>\n",
       "    <tr>\n",
       "      <th>1</th>\n",
       "      <td>30002.opus</td>\n",
       "      <td>КЩ В9Ю 9</td>\n",
       "    </tr>\n",
       "    <tr>\n",
       "      <th>2</th>\n",
       "      <td>30003.opus</td>\n",
       "      <td>Ы65Ф61Я</td>\n",
       "    </tr>\n",
       "    <tr>\n",
       "      <th>3</th>\n",
       "      <td>30004.opus</td>\n",
       "      <td>ЖЖНЖ9РЫНЦ3</td>\n",
       "    </tr>\n",
       "    <tr>\n",
       "      <th>4</th>\n",
       "      <td>30005.opus</td>\n",
       "      <td>ЕЯФ4ЮЧЬ</td>\n",
       "    </tr>\n",
       "  </tbody>\n",
       "</table>\n",
       "</div>"
      ],
      "text/plain": [
       "           id     message\n",
       "0  30001.opus   ЯЮ6ЛИТЖБШ\n",
       "1  30002.opus    КЩ В9Ю 9\n",
       "2  30003.opus     Ы65Ф61Я\n",
       "3  30004.opus  ЖЖНЖ9РЫНЦ3\n",
       "4  30005.opus     ЕЯФ4ЮЧЬ"
      ]
     },
     "metadata": {},
     "output_type": "display_data"
    }
   ],
   "source": [
    "SUBMISSION_TARGET_COLUMN = 'message'\n",
    "if not submission_results: print(\"Нет результатов для сабмита.\")\n",
    "else:\n",
    "    submission_df = pd.DataFrame(submission_results); print(f\"Получено {len(submission_df)} предсказаний.\")\n",
    "    try:\n",
    "        sample_df = pd.read_csv(config[\"SAMPLE_SUBMISSION_PATH\"]); print(f\"Загружен sample: {config['SAMPLE_SUBMISSION_PATH']}\")\n",
    "        submission_df['id'] = submission_df['id'].astype(str); sample_df['id'] = sample_df['id'].astype(str)\n",
    "        if submission_df['id'].duplicated().any(): submission_df = submission_df.drop_duplicates(subset=['id'], keep='first')\n",
    "        final_submission = pd.merge(sample_df[['id']], submission_df[['id', SUBMISSION_TARGET_COLUMN]], on='id', how='left')\n",
    "        missing_preds = final_submission[SUBMISSION_TARGET_COLUMN].isnull().sum()\n",
    "        if missing_preds > 0: print(f\"ПРЕДУПРЕЖДЕНИЕ: {missing_preds} ID не найдены, заполнены пустыми строками.\"); final_submission[SUBMISSION_TARGET_COLUMN] = final_submission[SUBMISSION_TARGET_COLUMN].fillna('')\n",
    "        if len(final_submission) != len(sample_df): print(f\"ПРЕДУПРЕЖДЕНИЕ: Размер сабмита ({len(final_submission)}) не совпадает с sample ({len(sample_df)})!\")\n",
    "        else: print(\"Размер совпадает с sample_submission.\")\n",
    "        final_submission[['id', SUBMISSION_TARGET_COLUMN]].to_csv(config[\"SUBMISSION_FILE\"], index=False)\n",
    "        print(f\"\\nФайл submission сохранен: {config['SUBMISSION_FILE']}\"); display(final_submission[['id', SUBMISSION_TARGET_COLUMN]].head())\n",
    "    except FileNotFoundError: print(f\"Не найден {config['SAMPLE_SUBMISSION_PATH']}. Сохраняем как есть.\"); submission_df[['id', SUBMISSION_TARGET_COLUMN]].to_csv(config[\"SUBMISSION_FILE\"], index=False)\n",
    "    except Exception as e: print(f\"Ошибка создания submission файла: {e}\"); traceback.print_exc()"
   ]
  }
 ],
 "metadata": {
  "kaggle": {
   "accelerator": "gpu",
   "dataSources": [
    {
     "datasetId": 7176553,
     "sourceId": 11453743,
     "sourceType": "datasetVersion"
    }
   ],
   "dockerImageVersionId": 31011,
   "isGpuEnabled": true,
   "isInternetEnabled": true,
   "language": "python",
   "sourceType": "notebook"
  },
  "kernelspec": {
   "display_name": "Python 3",
   "language": "python",
   "name": "python3"
  },
  "language_info": {
   "codemirror_mode": {
    "name": "ipython",
    "version": 3
   },
   "file_extension": ".py",
   "mimetype": "text/x-python",
   "name": "python",
   "nbconvert_exporter": "python",
   "pygments_lexer": "ipython3",
   "version": "3.11.11"
  }
 },
 "nbformat": 4,
 "nbformat_minor": 4
}
